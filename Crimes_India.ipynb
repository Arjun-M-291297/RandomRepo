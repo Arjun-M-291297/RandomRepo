{
 "cells": [
  {
   "cell_type": "markdown",
   "metadata": {},
   "source": [
    "# VISUALIZATION OF TOTAL CRIMES IN EACH STATES OF INDIA BETWEEN                                                  2001 AND 2012 USING CHOROPLETH MAP AND BARPLOTS"
   ]
  },
  {
   "cell_type": "markdown",
   "metadata": {},
   "source": [
    "## IMPORTING NECESSARY LIBRARIES"
   ]
  },
  {
   "cell_type": "markdown",
   "metadata": {},
   "source": [
    " Folium- Drawing maps <br>\n",
    " imageio- Converting set of images to gif<br>\n",
    " selenium webdriver- Taking screenshots of maps generated<br>"
   ]
  },
  {
   "cell_type": "code",
   "execution_count": 2,
   "metadata": {},
   "outputs": [],
   "source": [
    "import pandas as pd\n",
    "import folium\n",
    "import os\n",
    "import time as t\n",
    "import imageio\n",
    "from datetime import datetime\n",
    "from selenium import webdriver\n",
    "from selenium.webdriver.chrome.options import Options"
   ]
  },
  {
   "cell_type": "markdown",
   "metadata": {},
   "source": [
    "Downloaded data from https://www.kaggle.com/shishir349/indian-crime-analysis?select=crimes.csv"
   ]
  },
  {
   "cell_type": "code",
   "execution_count": 13,
   "metadata": {},
   "outputs": [
    {
     "data": {
      "text/html": [
       "<div>\n",
       "<style scoped>\n",
       "    .dataframe tbody tr th:only-of-type {\n",
       "        vertical-align: middle;\n",
       "    }\n",
       "\n",
       "    .dataframe tbody tr th {\n",
       "        vertical-align: top;\n",
       "    }\n",
       "\n",
       "    .dataframe thead th {\n",
       "        text-align: right;\n",
       "    }\n",
       "</style>\n",
       "<table border=\"1\" class=\"dataframe\">\n",
       "  <thead>\n",
       "    <tr style=\"text-align: right;\">\n",
       "      <th></th>\n",
       "      <th>STATE/UT</th>\n",
       "      <th>YEAR</th>\n",
       "      <th>Pupose</th>\n",
       "      <th>Total No. of cases reported</th>\n",
       "      <th>Male upto 10 years</th>\n",
       "      <th>Female upto 10 years</th>\n",
       "      <th>Male 10-15 years</th>\n",
       "      <th>Female 10-15 years</th>\n",
       "      <th>Male 15-18 years</th>\n",
       "      <th>Female 15-18 years</th>\n",
       "      <th>Male 18-30 years</th>\n",
       "      <th>Female 18-30 years</th>\n",
       "      <th>Male 30-50 years</th>\n",
       "      <th>Female 30-50 years</th>\n",
       "      <th>Male above 50 years</th>\n",
       "      <th>Female above 50 years</th>\n",
       "      <th>Total Male</th>\n",
       "      <th>Total Female</th>\n",
       "      <th>Grand Total</th>\n",
       "    </tr>\n",
       "  </thead>\n",
       "  <tbody>\n",
       "    <tr>\n",
       "      <th>0</th>\n",
       "      <td>Andhra Pradesh</td>\n",
       "      <td>2001</td>\n",
       "      <td>For Adoption</td>\n",
       "      <td>8</td>\n",
       "      <td>3</td>\n",
       "      <td>1</td>\n",
       "      <td>0</td>\n",
       "      <td>0</td>\n",
       "      <td>0</td>\n",
       "      <td>0</td>\n",
       "      <td>0</td>\n",
       "      <td>4</td>\n",
       "      <td>0</td>\n",
       "      <td>0</td>\n",
       "      <td>0</td>\n",
       "      <td>0</td>\n",
       "      <td>3</td>\n",
       "      <td>5</td>\n",
       "      <td>8</td>\n",
       "    </tr>\n",
       "    <tr>\n",
       "      <th>1</th>\n",
       "      <td>Andhra Pradesh</td>\n",
       "      <td>2001</td>\n",
       "      <td>For Begging</td>\n",
       "      <td>2</td>\n",
       "      <td>0</td>\n",
       "      <td>0</td>\n",
       "      <td>2</td>\n",
       "      <td>0</td>\n",
       "      <td>0</td>\n",
       "      <td>0</td>\n",
       "      <td>0</td>\n",
       "      <td>0</td>\n",
       "      <td>0</td>\n",
       "      <td>0</td>\n",
       "      <td>0</td>\n",
       "      <td>0</td>\n",
       "      <td>2</td>\n",
       "      <td>0</td>\n",
       "      <td>2</td>\n",
       "    </tr>\n",
       "    <tr>\n",
       "      <th>2</th>\n",
       "      <td>Andhra Pradesh</td>\n",
       "      <td>2001</td>\n",
       "      <td>For Camel racing</td>\n",
       "      <td>0</td>\n",
       "      <td>0</td>\n",
       "      <td>0</td>\n",
       "      <td>0</td>\n",
       "      <td>0</td>\n",
       "      <td>0</td>\n",
       "      <td>0</td>\n",
       "      <td>0</td>\n",
       "      <td>0</td>\n",
       "      <td>0</td>\n",
       "      <td>0</td>\n",
       "      <td>0</td>\n",
       "      <td>0</td>\n",
       "      <td>0</td>\n",
       "      <td>0</td>\n",
       "      <td>0</td>\n",
       "    </tr>\n",
       "    <tr>\n",
       "      <th>3</th>\n",
       "      <td>Andhra Pradesh</td>\n",
       "      <td>2001</td>\n",
       "      <td>For Illicit intercourse</td>\n",
       "      <td>78</td>\n",
       "      <td>0</td>\n",
       "      <td>2</td>\n",
       "      <td>0</td>\n",
       "      <td>25</td>\n",
       "      <td>0</td>\n",
       "      <td>24</td>\n",
       "      <td>0</td>\n",
       "      <td>25</td>\n",
       "      <td>0</td>\n",
       "      <td>2</td>\n",
       "      <td>0</td>\n",
       "      <td>0</td>\n",
       "      <td>0</td>\n",
       "      <td>78</td>\n",
       "      <td>78</td>\n",
       "    </tr>\n",
       "    <tr>\n",
       "      <th>4</th>\n",
       "      <td>Andhra Pradesh</td>\n",
       "      <td>2001</td>\n",
       "      <td>For marriage</td>\n",
       "      <td>339</td>\n",
       "      <td>0</td>\n",
       "      <td>0</td>\n",
       "      <td>0</td>\n",
       "      <td>73</td>\n",
       "      <td>1</td>\n",
       "      <td>164</td>\n",
       "      <td>6</td>\n",
       "      <td>91</td>\n",
       "      <td>0</td>\n",
       "      <td>4</td>\n",
       "      <td>0</td>\n",
       "      <td>0</td>\n",
       "      <td>7</td>\n",
       "      <td>332</td>\n",
       "      <td>339</td>\n",
       "    </tr>\n",
       "  </tbody>\n",
       "</table>\n",
       "</div>"
      ],
      "text/plain": [
       "         STATE/UT  YEAR                   Pupose  Total No. of cases reported  \\\n",
       "0  Andhra Pradesh  2001             For Adoption                            8   \n",
       "1  Andhra Pradesh  2001              For Begging                            2   \n",
       "2  Andhra Pradesh  2001         For Camel racing                            0   \n",
       "3  Andhra Pradesh  2001  For Illicit intercourse                           78   \n",
       "4  Andhra Pradesh  2001             For marriage                          339   \n",
       "\n",
       "   Male upto 10 years  Female upto 10 years  Male 10-15 years  \\\n",
       "0                   3                     1                 0   \n",
       "1                   0                     0                 2   \n",
       "2                   0                     0                 0   \n",
       "3                   0                     2                 0   \n",
       "4                   0                     0                 0   \n",
       "\n",
       "   Female 10-15 years  Male 15-18 years  Female 15-18 years  Male 18-30 years  \\\n",
       "0                   0                 0                   0                 0   \n",
       "1                   0                 0                   0                 0   \n",
       "2                   0                 0                   0                 0   \n",
       "3                  25                 0                  24                 0   \n",
       "4                  73                 1                 164                 6   \n",
       "\n",
       "   Female 18-30 years  Male 30-50 years  Female 30-50 years  \\\n",
       "0                   4                 0                   0   \n",
       "1                   0                 0                   0   \n",
       "2                   0                 0                   0   \n",
       "3                  25                 0                   2   \n",
       "4                  91                 0                   4   \n",
       "\n",
       "   Male above 50 years  Female above 50 years  Total Male  Total Female  \\\n",
       "0                    0                      0           3             5   \n",
       "1                    0                      0           2             0   \n",
       "2                    0                      0           0             0   \n",
       "3                    0                      0           0            78   \n",
       "4                    0                      0           7           332   \n",
       "\n",
       "   Grand Total  \n",
       "0            8  \n",
       "1            2  \n",
       "2            0  \n",
       "3           78  \n",
       "4          339  "
      ]
     },
     "execution_count": 13,
     "metadata": {},
     "output_type": "execute_result"
    }
   ],
   "source": [
    "data=pd.read_csv(\"india_crimes.csv\")\n",
    "data.head()"
   ]
  },
  {
   "cell_type": "markdown",
   "metadata": {},
   "source": [
    "Taking only relevant columns for visualization"
   ]
  },
  {
   "cell_type": "code",
   "execution_count": 20,
   "metadata": {},
   "outputs": [],
   "source": [
    "sub=data[[\"STATE/UT\",\"YEAR\",\"Pupose\",\"Total Male\",\"Total Female\",\"Grand Total\"]]\n",
    "sub=sub[sub[\"Pupose\"]==\"Total\"]\n",
    "sub.drop(\"Pupose\",axis=1,inplace=True)"
   ]
  },
  {
   "cell_type": "code",
   "execution_count": 18,
   "metadata": {},
   "outputs": [
    {
     "name": "stdout",
     "output_type": "stream",
     "text": [
      "['Andaman and Nicobar', 'Andhra Pradesh', 'Arunachal Pradesh', 'Assam', 'Bihar', 'Chandigarh', 'Chhattisgarh', 'Dadra and Nagar Haveli', 'Daman and Diu', 'Delhi', 'Goa', 'Gujarat', 'Haryana', 'Himachal Pradesh', 'Jammu and Kashmir', 'Jharkhand', 'Karnataka', 'Kerala', 'Lakshadweep', 'Madhya Pradesh', 'Maharashtra', 'Manipur', 'Meghalaya', 'Mizoram', 'Nagaland', 'Orissa', 'Puducherry', 'Punjab', 'Rajasthan', 'Sikkim', 'Tamil Nadu', 'Tripura', 'Uttar Pradesh', 'Uttaranchal', 'West Bengal']\n"
     ]
    }
   ],
   "source": [
    "print(sorted(sub[\"STATE/UT\"].unique()))"
   ]
  },
  {
   "cell_type": "markdown",
   "metadata": {},
   "source": [
    "Renaming States and Union Territories as per my requirement"
   ]
  },
  {
   "cell_type": "code",
   "execution_count": 19,
   "metadata": {},
   "outputs": [
    {
     "name": "stdout",
     "output_type": "stream",
     "text": [
      "['Andaman and Nicobar', 'Andhra Pradesh', 'Arunachal Pradesh', 'Assam', 'Bihar', 'Chandigarh', 'Chhattisgarh', 'Dadra and Nagar Haveli', 'Daman and Diu', 'Delhi', 'Goa', 'Gujarat', 'Haryana', 'Himachal Pradesh', 'Jammu and Kashmir', 'Jharkhand', 'Karnataka', 'Kerala', 'Lakshadweep', 'Madhya Pradesh', 'Maharashtra', 'Manipur', 'Meghalaya', 'Mizoram', 'Nagaland', 'Orissa', 'Puducherry', 'Punjab', 'Rajasthan', 'Sikkim', 'Tamil Nadu', 'Tripura', 'Uttar Pradesh', 'Uttaranchal', 'West Bengal']\n"
     ]
    }
   ],
   "source": [
    "sub[\"STATE/UT\"] = sub[\"STATE/UT\"].replace({'Jammu & Kashmir':'Jammu and Kashmir', 'Odisha':'Orissa', 'Uttarakhand':'Uttaranchal','A&N Islands':'Andaman and Nicobar','D&N Haveli':'Dadra and Nagar Haveli',\n",
    "                   'Delhi UT':'Delhi','Daman & Diu':'Daman and Diu',})\n",
    "print(sorted(sub[\"STATE/UT\"].unique()))"
   ]
  },
  {
   "cell_type": "markdown",
   "metadata": {},
   "source": [
    "Sort the whole dataframe by YEAR"
   ]
  },
  {
   "cell_type": "code",
   "execution_count": 21,
   "metadata": {},
   "outputs": [],
   "source": [
    "sub.sort_values(\"YEAR\",inplace=True)"
   ]
  },
  {
   "cell_type": "code",
   "execution_count": 22,
   "metadata": {},
   "outputs": [
    {
     "data": {
      "text/plain": [
       "array([2001, 2002, 2003, 2004, 2005, 2006, 2007, 2008, 2009, 2010, 2011,\n",
       "       2012], dtype=int64)"
      ]
     },
     "execution_count": 22,
     "metadata": {},
     "output_type": "execute_result"
    }
   ],
   "source": [
    "Years=sub[\"YEAR\"].unique()\n",
    "Years"
   ]
  },
  {
   "cell_type": "code",
   "execution_count": 23,
   "metadata": {},
   "outputs": [
    {
     "name": "stderr",
     "output_type": "stream",
     "text": [
      "C:\\Users\\hp\\anaconda3\\lib\\site-packages\\ipykernel_launcher.py:4: DeprecationWarning: use options instead of chrome_options\n",
      "  after removing the cwd from sys.path.\n"
     ]
    }
   ],
   "source": [
    "india_geojson = r'india_states.geojson' # geojson file\n",
    "options = webdriver.ChromeOptions()\n",
    "options.add_argument(\"--start-maximized\")\n",
    "driver = webdriver.Chrome(executable_path=\"C:\\Python27\\Scripts\\chromedriver.exe\",chrome_options=options)\n",
    "options.headless = False"
   ]
  },
  {
   "cell_type": "markdown",
   "metadata": {},
   "source": [
    "## CHOROPLETH MAP\n",
    "Creating subsets of dataframe for each year <br>\n",
    "Creating a Terrain map of Indian Map using folium <br>\n",
    "On to which colors are specified based on the Grand Total attribute on each State/Union Territory<br>\n",
    "File is then saved appending with the current timestamp"
   ]
  },
  {
   "cell_type": "code",
   "execution_count": null,
   "metadata": {},
   "outputs": [],
   "source": [
    "for year in Years:\n",
    "    temp=sub[sub[\"YEAR\"]==year]\n",
    "    india_map = folium.Map(location=[21.6937, 78.9629],max_zoom=5, tiles='Stamen Terrain',height=700)\n",
    "    india_map.choropleth(\n",
    "    geo_data=india_geojson,\n",
    "    threshold_scale=[0, 500, 1500, 3500,6000 ,9000],\n",
    "    data=temp,\n",
    "    columns=['STATE/UT', 'Grand Total'],\n",
    "    key_on='feature.properties.NAME_1',\n",
    "    fill_color='YlOrRd',\n",
    "    legend_name=str(year)+\" : Total Crimes\",\n",
    "    )\n",
    "    india_map.save('map.html')\n",
    "    driver.get('file:///F:/pY/Exp/map.html')\n",
    "    now = datetime.now()\n",
    "    hms=now.strftime(\"%H_%M_%S\")\n",
    "    driver.save_screenshot(\"pageImage.png\")\n",
    "    os.rename('pageImage.png', \"pageImage\"+hms+\".png\")"
   ]
  },
  {
   "cell_type": "markdown",
   "metadata": {},
   "source": [
    "GIF is generated using the png images formed"
   ]
  },
  {
   "cell_type": "code",
   "execution_count": null,
   "metadata": {},
   "outputs": [],
   "source": [
    "path = \"F:/pY/Exp/\"\n",
    "image_folder = os.fsencode(path)\n",
    "\n",
    "filenames = []\n",
    "\n",
    "for file in os.listdir(image_folder):\n",
    "    filename = os.fsdecode(file)\n",
    "    if filename.endswith( ('.png') ):\n",
    "        filenames.append(filename)\n",
    "\n",
    "filenames.sort()\n",
    "images = list(map(lambda filename: imageio.imread(filename), filenames))\n",
    "imageio.mimsave(os.path.join('movie_zoom4.gif'), images, duration = 1.2)"
   ]
  },
  {
   "cell_type": "markdown",
   "metadata": {},
   "source": [
    "![SegmentLocal](movie_zoom4.gif \"segment\")"
   ]
  },
  {
   "cell_type": "markdown",
   "metadata": {},
   "source": [
    "## BARPLOTS"
   ]
  },
  {
   "cell_type": "code",
   "execution_count": 25,
   "metadata": {},
   "outputs": [],
   "source": [
    "import seaborn as sns\n",
    "import matplotlib.pyplot as plt"
   ]
  },
  {
   "cell_type": "code",
   "execution_count": null,
   "metadata": {},
   "outputs": [],
   "source": [
    "for year in Years:\n",
    "    plt.figure(figsize=(30,28))\n",
    "    temp=sub[sub[\"YEAR\"]==year]\n",
    "    temp.sort_values(\"STATE/UT\",inplace=True)\n",
    "    sns.set(font_scale=2.4)\n",
    "    g =sns.barplot(x='Grand Total',y='STATE/UT',data=temp)\n",
    "    for p in g.patches:\n",
    "        percentage = int(p.get_width())\n",
    "        x = p.get_x() + p.get_width() + 4\n",
    "        y = p.get_y() + p.get_height()/1.4\n",
    "        g.annotate(percentage, (x, y))\n",
    "        plt.title(str(year))\n",
    "        now = datetime.now()\n",
    "        hms=now.strftime(\"%H_%M_%S\")\n",
    "    plt.savefig(\"crimes\"+hms+\".png\")"
   ]
  },
  {
   "cell_type": "code",
   "execution_count": null,
   "metadata": {},
   "outputs": [],
   "source": [
    "path = \"F:/pY/Exp/\"\n",
    "image_folder = os.fsencode(path)\n",
    "\n",
    "filenames = []\n",
    "\n",
    "for file in os.listdir(image_folder):\n",
    "    filename = os.fsdecode(file)\n",
    "    if filename.endswith( ('.png') ):\n",
    "        filenames.append(filename)\n",
    "\n",
    "filenames.sort()\n",
    "images = list(map(lambda filename: imageio.imread(filename), filenames))\n",
    "imageio.mimsave(os.path.join('crimes_plot.gif'), images, duration = 1.2)   "
   ]
  },
  {
   "cell_type": "markdown",
   "metadata": {},
   "source": [
    "![SegmentLocal](crimes_plot.gif \"segment\")\n"
   ]
  },
  {
   "cell_type": "code",
   "execution_count": null,
   "metadata": {},
   "outputs": [],
   "source": []
  }
 ],
 "metadata": {
  "kernelspec": {
   "display_name": "Python 3",
   "language": "python",
   "name": "python3"
  },
  "language_info": {
   "codemirror_mode": {
    "name": "ipython",
    "version": 3
   },
   "file_extension": ".py",
   "mimetype": "text/x-python",
   "name": "python",
   "nbconvert_exporter": "python",
   "pygments_lexer": "ipython3",
   "version": "3.7.6"
  }
 },
 "nbformat": 4,
 "nbformat_minor": 4
}
