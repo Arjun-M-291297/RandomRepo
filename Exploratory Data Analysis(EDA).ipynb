{
 "cells": [
  {
   "cell_type": "markdown",
   "metadata": {},
   "source": [
    "# Exploratory Data Analysis using Zomato Restaurants Dataset"
   ]
  },
  {
   "cell_type": "markdown",
   "metadata": {},
   "source": [
    "## Problem Statement\n",
    "\n",
    "The zomato exploratory data analysis is for the foodies to find the best restaurants, value for money restaurants in their locality. It also helps to find their required cuisines in their locality.  "
   ]
  },
  {
   "cell_type": "markdown",
   "metadata": {},
   "source": [
    "## Import Libraries"
   ]
  },
  {
   "cell_type": "code",
   "execution_count": 1,
   "metadata": {},
   "outputs": [],
   "source": [
    "import pandas as pd\n",
    "import numpy as np\n",
    "import matplotlib.pyplot as plt\n",
    "import seaborn as sb\n",
    "import os\n",
    "plt.rcParams[\"figure.figsize\"] = [16,9]"
   ]
  },
  {
   "cell_type": "markdown",
   "metadata": {},
   "source": [
    "## Read Data"
   ]
  },
  {
   "cell_type": "code",
   "execution_count": 2,
   "metadata": {},
   "outputs": [],
   "source": [
    "data=pd.read_csv('ZomatoRestaurantsIndia.csv')"
   ]
  },
  {
   "cell_type": "markdown",
   "metadata": {},
   "source": [
    "## Prepare the Data"
   ]
  },
  {
   "cell_type": "markdown",
   "metadata": {},
   "source": [
    "**1. Check dimensions of the dataframe in terms of rows and columns**"
   ]
  },
  {
   "cell_type": "code",
   "execution_count": 3,
   "metadata": {},
   "outputs": [
    {
     "data": {
      "text/plain": [
       "(211944, 26)"
      ]
     },
     "execution_count": 3,
     "metadata": {},
     "output_type": "execute_result"
    }
   ],
   "source": [
    "data.shape"
   ]
  },
  {
   "cell_type": "markdown",
   "metadata": {},
   "source": [
    "**2. View the head of the data**"
   ]
  },
  {
   "cell_type": "code",
   "execution_count": 4,
   "metadata": {},
   "outputs": [
    {
     "data": {
      "text/html": [
       "<div>\n",
       "<style scoped>\n",
       "    .dataframe tbody tr th:only-of-type {\n",
       "        vertical-align: middle;\n",
       "    }\n",
       "\n",
       "    .dataframe tbody tr th {\n",
       "        vertical-align: top;\n",
       "    }\n",
       "\n",
       "    .dataframe thead th {\n",
       "        text-align: right;\n",
       "    }\n",
       "</style>\n",
       "<table border=\"1\" class=\"dataframe\">\n",
       "  <thead>\n",
       "    <tr style=\"text-align: right;\">\n",
       "      <th></th>\n",
       "      <th>res_id</th>\n",
       "      <th>name</th>\n",
       "      <th>establishment</th>\n",
       "      <th>url</th>\n",
       "      <th>address</th>\n",
       "      <th>city</th>\n",
       "      <th>city_id</th>\n",
       "      <th>locality</th>\n",
       "      <th>latitude</th>\n",
       "      <th>longitude</th>\n",
       "      <th>...</th>\n",
       "      <th>price_range</th>\n",
       "      <th>currency</th>\n",
       "      <th>highlights</th>\n",
       "      <th>aggregate_rating</th>\n",
       "      <th>rating_text</th>\n",
       "      <th>votes</th>\n",
       "      <th>photo_count</th>\n",
       "      <th>opentable_support</th>\n",
       "      <th>delivery</th>\n",
       "      <th>takeaway</th>\n",
       "    </tr>\n",
       "  </thead>\n",
       "  <tbody>\n",
       "    <tr>\n",
       "      <th>0</th>\n",
       "      <td>3400299</td>\n",
       "      <td>Bikanervala</td>\n",
       "      <td>Quick Bites</td>\n",
       "      <td>https://www.zomato.com/agra/bikanervala-khanda...</td>\n",
       "      <td>Kalyani Point, Near Tulsi Cinema, Bypass Road,...</td>\n",
       "      <td>Agra</td>\n",
       "      <td>34</td>\n",
       "      <td>Khandari</td>\n",
       "      <td>27.211450</td>\n",
       "      <td>78.002381</td>\n",
       "      <td>...</td>\n",
       "      <td>2</td>\n",
       "      <td>Rs.</td>\n",
       "      <td>Lunch, Takeaway Available, Credit Card, Dinner...</td>\n",
       "      <td>4.4</td>\n",
       "      <td>Very Good</td>\n",
       "      <td>814</td>\n",
       "      <td>154</td>\n",
       "      <td>0.0</td>\n",
       "      <td>-1</td>\n",
       "      <td>-1</td>\n",
       "    </tr>\n",
       "    <tr>\n",
       "      <th>1</th>\n",
       "      <td>3400005</td>\n",
       "      <td>Mama Chicken Mama Franky House</td>\n",
       "      <td>Quick Bites</td>\n",
       "      <td>https://www.zomato.com/agra/mama-chicken-mama-...</td>\n",
       "      <td>Main Market, Sadar Bazaar, Agra Cantt, Agra</td>\n",
       "      <td>Agra</td>\n",
       "      <td>34</td>\n",
       "      <td>Agra Cantt</td>\n",
       "      <td>27.160569</td>\n",
       "      <td>78.011583</td>\n",
       "      <td>...</td>\n",
       "      <td>2</td>\n",
       "      <td>Rs.</td>\n",
       "      <td>Delivery, No Alcohol Available, Dinner, Takeaw...</td>\n",
       "      <td>4.4</td>\n",
       "      <td>Very Good</td>\n",
       "      <td>1203</td>\n",
       "      <td>161</td>\n",
       "      <td>0.0</td>\n",
       "      <td>-1</td>\n",
       "      <td>-1</td>\n",
       "    </tr>\n",
       "    <tr>\n",
       "      <th>2</th>\n",
       "      <td>3401013</td>\n",
       "      <td>Bhagat Halwai</td>\n",
       "      <td>Quick Bites</td>\n",
       "      <td>https://www.zomato.com/agra/bhagat-halwai-2-sh...</td>\n",
       "      <td>62/1, Near Easy Day, West Shivaji Nagar, Goalp...</td>\n",
       "      <td>Agra</td>\n",
       "      <td>34</td>\n",
       "      <td>Shahganj</td>\n",
       "      <td>27.182938</td>\n",
       "      <td>77.979684</td>\n",
       "      <td>...</td>\n",
       "      <td>1</td>\n",
       "      <td>Rs.</td>\n",
       "      <td>No Alcohol Available, Dinner, Takeaway Availab...</td>\n",
       "      <td>4.2</td>\n",
       "      <td>Very Good</td>\n",
       "      <td>801</td>\n",
       "      <td>107</td>\n",
       "      <td>0.0</td>\n",
       "      <td>1</td>\n",
       "      <td>-1</td>\n",
       "    </tr>\n",
       "    <tr>\n",
       "      <th>3</th>\n",
       "      <td>3400290</td>\n",
       "      <td>Bhagat Halwai</td>\n",
       "      <td>Quick Bites</td>\n",
       "      <td>https://www.zomato.com/agra/bhagat-halwai-civi...</td>\n",
       "      <td>Near Anjana Cinema, Nehru Nagar, Civil Lines, ...</td>\n",
       "      <td>Agra</td>\n",
       "      <td>34</td>\n",
       "      <td>Civil Lines</td>\n",
       "      <td>27.205668</td>\n",
       "      <td>78.004799</td>\n",
       "      <td>...</td>\n",
       "      <td>1</td>\n",
       "      <td>Rs.</td>\n",
       "      <td>Takeaway Available, Credit Card, Lunch, Delive...</td>\n",
       "      <td>4.3</td>\n",
       "      <td>Very Good</td>\n",
       "      <td>693</td>\n",
       "      <td>157</td>\n",
       "      <td>0.0</td>\n",
       "      <td>1</td>\n",
       "      <td>-1</td>\n",
       "    </tr>\n",
       "    <tr>\n",
       "      <th>4</th>\n",
       "      <td>3401744</td>\n",
       "      <td>The Salt Cafe Kitchen &amp; Bar</td>\n",
       "      <td>Casual Dining</td>\n",
       "      <td>https://www.zomato.com/agra/the-salt-cafe-kitc...</td>\n",
       "      <td>1C,3rd Floor, Fatehabad Road, Tajganj, Agra</td>\n",
       "      <td>Agra</td>\n",
       "      <td>34</td>\n",
       "      <td>Tajganj</td>\n",
       "      <td>27.157709</td>\n",
       "      <td>78.052421</td>\n",
       "      <td>...</td>\n",
       "      <td>3</td>\n",
       "      <td>Rs.</td>\n",
       "      <td>Lunch, Serves Alcohol, Cash, Credit Card, Dinn...</td>\n",
       "      <td>4.9</td>\n",
       "      <td>Excellent</td>\n",
       "      <td>470</td>\n",
       "      <td>291</td>\n",
       "      <td>0.0</td>\n",
       "      <td>1</td>\n",
       "      <td>-1</td>\n",
       "    </tr>\n",
       "  </tbody>\n",
       "</table>\n",
       "<p>5 rows × 26 columns</p>\n",
       "</div>"
      ],
      "text/plain": [
       "    res_id                            name  establishment  \\\n",
       "0  3400299                     Bikanervala    Quick Bites   \n",
       "1  3400005  Mama Chicken Mama Franky House    Quick Bites   \n",
       "2  3401013                   Bhagat Halwai    Quick Bites   \n",
       "3  3400290                   Bhagat Halwai    Quick Bites   \n",
       "4  3401744     The Salt Cafe Kitchen & Bar  Casual Dining   \n",
       "\n",
       "                                                 url  \\\n",
       "0  https://www.zomato.com/agra/bikanervala-khanda...   \n",
       "1  https://www.zomato.com/agra/mama-chicken-mama-...   \n",
       "2  https://www.zomato.com/agra/bhagat-halwai-2-sh...   \n",
       "3  https://www.zomato.com/agra/bhagat-halwai-civi...   \n",
       "4  https://www.zomato.com/agra/the-salt-cafe-kitc...   \n",
       "\n",
       "                                             address  city  city_id  \\\n",
       "0  Kalyani Point, Near Tulsi Cinema, Bypass Road,...  Agra       34   \n",
       "1        Main Market, Sadar Bazaar, Agra Cantt, Agra  Agra       34   \n",
       "2  62/1, Near Easy Day, West Shivaji Nagar, Goalp...  Agra       34   \n",
       "3  Near Anjana Cinema, Nehru Nagar, Civil Lines, ...  Agra       34   \n",
       "4        1C,3rd Floor, Fatehabad Road, Tajganj, Agra  Agra       34   \n",
       "\n",
       "      locality   latitude  longitude  ... price_range  currency  \\\n",
       "0     Khandari  27.211450  78.002381  ...           2       Rs.   \n",
       "1   Agra Cantt  27.160569  78.011583  ...           2       Rs.   \n",
       "2     Shahganj  27.182938  77.979684  ...           1       Rs.   \n",
       "3  Civil Lines  27.205668  78.004799  ...           1       Rs.   \n",
       "4      Tajganj  27.157709  78.052421  ...           3       Rs.   \n",
       "\n",
       "                                          highlights aggregate_rating  \\\n",
       "0  Lunch, Takeaway Available, Credit Card, Dinner...              4.4   \n",
       "1  Delivery, No Alcohol Available, Dinner, Takeaw...              4.4   \n",
       "2  No Alcohol Available, Dinner, Takeaway Availab...              4.2   \n",
       "3  Takeaway Available, Credit Card, Lunch, Delive...              4.3   \n",
       "4  Lunch, Serves Alcohol, Cash, Credit Card, Dinn...              4.9   \n",
       "\n",
       "  rating_text  votes  photo_count opentable_support delivery  takeaway  \n",
       "0   Very Good    814          154               0.0       -1        -1  \n",
       "1   Very Good   1203          161               0.0       -1        -1  \n",
       "2   Very Good    801          107               0.0        1        -1  \n",
       "3   Very Good    693          157               0.0        1        -1  \n",
       "4   Excellent    470          291               0.0        1        -1  \n",
       "\n",
       "[5 rows x 26 columns]"
      ]
     },
     "execution_count": 4,
     "metadata": {},
     "output_type": "execute_result"
    }
   ],
   "source": [
    "data.head()"
   ]
  },
  {
   "cell_type": "markdown",
   "metadata": {},
   "source": [
    "**3. Note the redundant variables and drop them**"
   ]
  },
  {
   "cell_type": "code",
   "execution_count": 5,
   "metadata": {},
   "outputs": [
    {
     "data": {
      "text/plain": [
       "(211944, 21)"
      ]
     },
     "execution_count": 5,
     "metadata": {},
     "output_type": "execute_result"
    }
   ],
   "source": [
    "data.drop([\"locality_verbose\",\"opentable_support\",\"takeaway\",\"res_id\",\"url\"],axis=1,inplace=True)\n",
    "data.shape"
   ]
  },
  {
   "cell_type": "markdown",
   "metadata": {},
   "source": [
    "**4. Check the data types. Ensure that data types are not as per business context**\n"
   ]
  },
  {
   "cell_type": "code",
   "execution_count": 6,
   "metadata": {},
   "outputs": [
    {
     "data": {
      "text/plain": [
       "name                     object\n",
       "establishment            object\n",
       "address                  object\n",
       "city                     object\n",
       "city_id                   int64\n",
       "locality                 object\n",
       "latitude                float64\n",
       "longitude               float64\n",
       "zipcode                  object\n",
       "country_id                int64\n",
       "cuisines                 object\n",
       "timings                  object\n",
       "average_cost_for_two      int64\n",
       "price_range               int64\n",
       "currency                 object\n",
       "highlights               object\n",
       "aggregate_rating        float64\n",
       "rating_text              object\n",
       "votes                     int64\n",
       "photo_count               int64\n",
       "delivery                  int64\n",
       "dtype: object"
      ]
     },
     "execution_count": 6,
     "metadata": {},
     "output_type": "execute_result"
    }
   ],
   "source": [
    "data.dtypes"
   ]
  },
  {
   "cell_type": "markdown",
   "metadata": {},
   "source": [
    "#### Change the incorrect data type"
   ]
  },
  {
   "cell_type": "code",
   "execution_count": 7,
   "metadata": {},
   "outputs": [
    {
     "name": "stdout",
     "output_type": "stream",
     "text": [
      "name                     object\n",
      "establishment            object\n",
      "address                  object\n",
      "city                     object\n",
      "city_id                  object\n",
      "locality                 object\n",
      "latitude                 object\n",
      "longitude                object\n",
      "zipcode                  object\n",
      "country_id               object\n",
      "cuisines                 object\n",
      "timings                  object\n",
      "average_cost_for_two      int64\n",
      "price_range              object\n",
      "currency                 object\n",
      "highlights               object\n",
      "aggregate_rating        float64\n",
      "rating_text              object\n",
      "votes                     int64\n",
      "photo_count               int64\n",
      "delivery                 object\n",
      "dtype: object\n"
     ]
    }
   ],
   "source": [
    "convert_dict = {'city_id': object,'country_id':object,'price_range':object,'delivery':object,'latitude':object,'longitude':object } \n",
    "data = data.astype(convert_dict) \n",
    "print(data.dtypes)"
   ]
  },
  {
   "cell_type": "markdown",
   "metadata": {},
   "source": [
    "**5. Check for Duplicates**"
   ]
  },
  {
   "cell_type": "code",
   "execution_count": 8,
   "metadata": {},
   "outputs": [
    {
     "data": {
      "text/plain": [
       "(60406, 21)"
      ]
     },
     "execution_count": 8,
     "metadata": {},
     "output_type": "execute_result"
    }
   ],
   "source": [
    "data.duplicated().value_counts()\n",
    "data=data.drop_duplicates()\n",
    "data.shape"
   ]
  },
  {
   "cell_type": "markdown",
   "metadata": {},
   "source": [
    "## Understand the variables"
   ]
  },
  {
   "cell_type": "markdown",
   "metadata": {},
   "source": [
    "**1. Variable 'name'**"
   ]
  },
  {
   "cell_type": "code",
   "execution_count": 9,
   "metadata": {},
   "outputs": [
    {
     "name": "stdout",
     "output_type": "stream",
     "text": [
      "count             60406\n",
      "unique            40965\n",
      "top       Dominos Pizza\n",
      "freq                413\n",
      "Name: name, dtype: object\n",
      "object\n",
      "40965\n",
      "False\n",
      "No.of rows=60406,Total Uniques=40965,Frequent element=Dominos Pizza and count=413,data type =Object,Null values = False\n"
     ]
    }
   ],
   "source": [
    "print(data.name.describe())\n",
    "print(data.name.dtypes)\n",
    "print(data.name.nunique())\n",
    "print(data.name.isnull().any())\n",
    "\n",
    "print(\"No.of rows=60406,Total Uniques=40965,Frequent element=Dominos Pizza and count=413,data type =Object,Null values = False\")"
   ]
  },
  {
   "cell_type": "markdown",
   "metadata": {},
   "source": [
    "**2. Variable 'establishment'**"
   ]
  },
  {
   "cell_type": "code",
   "execution_count": 10,
   "metadata": {},
   "outputs": [
    {
     "name": "stdout",
     "output_type": "stream",
     "text": [
      "count           58486\n",
      "unique             26\n",
      "top       Quick Bites\n",
      "freq            15473\n",
      "Name: establishment, dtype: object\n",
      "object\n",
      "26\n",
      "True\n",
      "No. of rows=58486,Total Uniques=26,Frequent element=Quick Bites and count=15473,data type =Object,Null values = True\n"
     ]
    }
   ],
   "source": [
    "print(data.establishment.describe())\n",
    "print(data.establishment.dtypes)\n",
    "print(data.establishment.nunique())\n",
    "print(data.establishment.isnull().any())\n",
    "print(\"No. of rows=58486,Total Uniques=26,Frequent element=Quick Bites and count=15473,data type =Object,Null values = True\")"
   ]
  },
  {
   "cell_type": "markdown",
   "metadata": {},
   "source": [
    "**3. Variable 'city'**"
   ]
  },
  {
   "cell_type": "code",
   "execution_count": 11,
   "metadata": {},
   "outputs": [
    {
     "name": "stdout",
     "output_type": "stream",
     "text": [
      "count       60406\n",
      "unique         98\n",
      "top       Chennai\n",
      "freq         2612\n",
      "Name: city, dtype: object\n",
      "object\n",
      "98\n",
      "False\n",
      "No. of rows=60411,Total Uniques=98,Frequent element=Chennai and count=2612,data type =Object,Null values = False\n"
     ]
    }
   ],
   "source": [
    "print(data.city.describe())\n",
    "print(data.city.dtypes)\n",
    "print(data.city.nunique())\n",
    "print(data.city.isnull().any())\n",
    "print(\"No. of rows=60411,Total Uniques=98,Frequent element=Chennai and count=2612,data type =Object,Null values = False\")"
   ]
  },
  {
   "cell_type": "markdown",
   "metadata": {},
   "source": [
    "**Let us find the count of restaurants in each city**"
   ]
  },
  {
   "cell_type": "code",
   "execution_count": 12,
   "metadata": {
    "scrolled": true
   },
   "outputs": [
    {
     "data": {
      "text/plain": [
       "city\n",
       "Agra           879\n",
       "Ahmedabad     1283\n",
       "Ajmer          461\n",
       "Alappuzha      266\n",
       "Allahabad      551\n",
       "              ... \n",
       "Varanasi       585\n",
       "Vellore        324\n",
       "Vijayawada     512\n",
       "Vizag          709\n",
       "Zirakpur       151\n",
       "Name: establishment, Length: 98, dtype: int64"
      ]
     },
     "execution_count": 12,
     "metadata": {},
     "output_type": "execute_result"
    }
   ],
   "source": [
    "cities_unique=(data.city.unique())\n",
    "count_rest_city=data.groupby(\"city\").count()\n",
    "count_rest_city.iloc[:,1]"
   ]
  },
  {
   "cell_type": "markdown",
   "metadata": {},
   "source": [
    "**4. Variable 'locality'**"
   ]
  },
  {
   "cell_type": "code",
   "execution_count": 13,
   "metadata": {},
   "outputs": [
    {
     "name": "stdout",
     "output_type": "stream",
     "text": [
      "count           60406\n",
      "unique           3731\n",
      "top       Civil Lines\n",
      "freq              804\n",
      "Name: locality, dtype: object\n",
      "object\n",
      "3731\n",
      "False\n",
      "No. of rows=60406,Total Uniques=3731,Frequent element=Civil Lines and count=804,data type =Object,Null values = False\n"
     ]
    }
   ],
   "source": [
    "print(data.locality.describe())\n",
    "print(data.locality.dtypes)\n",
    "print(data.locality.nunique())\n",
    "print(data.locality.isnull().any())\n",
    "print(\"No. of rows=60406,Total Uniques=3731,Frequent element=Civil Lines and count=804,data type =Object,Null values = False\")"
   ]
  },
  {
   "cell_type": "markdown",
   "metadata": {},
   "source": [
    "**4. Variable 'latitude'**\n",
    "\n",
    "From the variable 'latitude', we know the latitudinal location of the restaurant\n",
    "\n",
    "The Latitudinal extent of India 8º4‛N to 37º6‛ N. \n",
    "\n",
    "We must check whether we have any points beyond this extent."
   ]
  },
  {
   "cell_type": "code",
   "execution_count": 14,
   "metadata": {},
   "outputs": [
    {
     "name": "stdout",
     "output_type": "stream",
     "text": [
      "Total number of values beyond the extend : 955\n",
      "Total number of values beyond the extend after replace: 0\n"
     ]
    }
   ],
   "source": [
    "print(\"Total number of values beyond the extend :\",data.latitude[(data[\"latitude\"]<8.066667) | (data[\"latitude\"]>37.1)].count())\n",
    "data.latitude.replace(data.latitude[(data[\"latitude\"]<8.066667) | (data[\"latitude\"]>37.1)],np.nan,inplace=True)\n",
    "print(\"Total number of values beyond the extend after replace:\",data.latitude[(data[\"latitude\"]<8.066667) | (data[\"latitude\"]>37.1)].count())\n"
   ]
  },
  {
   "cell_type": "markdown",
   "metadata": {},
   "source": [
    "**5. Variable 'longitude'**\n",
    "\n",
    "From the variable 'longitude', we know the longitudinal location of the restaurant\n",
    "\n",
    "The Longitudinal extent of India is from 68°7'E to 97°25'E\n",
    "\n",
    "We must check whether we have any points beyond this extent."
   ]
  },
  {
   "cell_type": "code",
   "execution_count": 15,
   "metadata": {},
   "outputs": [
    {
     "name": "stdout",
     "output_type": "stream",
     "text": [
      "Total number of values beyond the extend : 957\n",
      "Total number of values beyond the extend after replace: 0\n"
     ]
    },
    {
     "data": {
      "image/png": "[encoded data removed]",
      "text/plain": [
       "<Figure size 1152x648 with 1 Axes>"
      ]
     },
     "metadata": {
      "needs_background": "light"
     },
     "output_type": "display_data"
    }
   ],
   "source": [
    "print(\"Total number of values beyond the extend :\",data.longitude[(data[\"longitude\"]<68.11666667) | (data[\"latitude\"]>97.41666667)].count())\n",
    "data.longitude.replace(data.longitude[(data[\"longitude\"]<68.11666667) | (data[\"longitude\"]>97.41666667)],np.nan,inplace=True)\n",
    "print(\"Total number of values beyond the extend after replace:\",data.longitude[(data[\"longitude\"]<68.11666667) | (data[\"longitude\"]>97.41666667)].count())\n",
    "plt.plot(data.latitude,data.longitude)\n",
    "plt.show()"
   ]
  },
  {
   "cell_type": "markdown",
   "metadata": {},
   "source": [
    "**6. Variable 'cuisines'**"
   ]
  },
  {
   "cell_type": "code",
   "execution_count": 16,
   "metadata": {},
   "outputs": [
    {
     "name": "stdout",
     "output_type": "stream",
     "text": [
      "count            59936\n",
      "unique            9382\n",
      "top       North Indian\n",
      "freq              4586\n",
      "Name: cuisines, dtype: object\n",
      "object\n",
      "9382\n",
      "True\n",
      "No. of rows=59936,Total Uniques=9382,Frequent element=North Indian and count=4586,data type =Object,Null values = True\n"
     ]
    }
   ],
   "source": [
    "print(data.cuisines.describe())\n",
    "print(data.cuisines.dtypes)\n",
    "print(data.cuisines.nunique())\n",
    "print(data.cuisines.isnull().any())\n",
    "print(\"No. of rows=59936,Total Uniques=9382,Frequent element=North Indian and count=4586,data type =Object,Null values = True\")"
   ]
  },
  {
   "cell_type": "markdown",
   "metadata": {},
   "source": [
    "- To find the unique cusines we write a small user defined function.\n",
    "\n"
   ]
  },
  {
   "cell_type": "code",
   "execution_count": 17,
   "metadata": {},
   "outputs": [
    {
     "name": "stdout",
     "output_type": "stream",
     "text": [
      "['North Indian, South Indian, Mithai, Street Food, Desserts'\n",
      " 'North Indian, Mughlai, Rolls, Chinese, Fast Food, Street Food'\n",
      " 'Fast Food, Mithai' ...\n",
      " 'Street Food, Biryani, Chinese, Fast Food, North Indian, Mughlai'\n",
      " 'North Indian, Chinese, Mexican, Italian, Thai, Continental'\n",
      " 'North Indian, Lucknowi, Chinese']\n"
     ]
    }
   ],
   "source": [
    "def findUnique(data_cuisines):\n",
    "    out=(data_cuisines.unique())\n",
    "    return out\n",
    "unique_cuisines=findUnique(data.cuisines)\n",
    "print(unique_cuisines)"
   ]
  },
  {
   "cell_type": "markdown",
   "metadata": {},
   "source": [
    "- find out the frequency of each cuisine"
   ]
  },
  {
   "cell_type": "code",
   "execution_count": 18,
   "metadata": {},
   "outputs": [
    {
     "data": {
      "text/plain": [
       "cuisines\n",
       "Afghan                                                     5\n",
       "Afghan, American                                           1\n",
       "Afghan, Arabian, BBQ, Beverages, Biryani, Maharashtrian    1\n",
       "Afghan, Arabian, BBQ, Beverages, Burger                    1\n",
       "Afghan, Arabian, Biryani                                   1\n",
       "                                                          ..\n",
       "Wraps, Sandwich, Pizza, BBQ                                1\n",
       "Wraps, Sandwich, Pizza, Bakery                             1\n",
       "Wraps, Sandwich, Rolls, Fast Food, Burger                  0\n",
       "Wraps, Sandwich, Rolls, Pizza, Burger                      2\n",
       "Wraps, Sandwich, Salad, Pizza, Burger, Beverages           1\n",
       "Name: establishment, Length: 9382, dtype: int64"
      ]
     },
     "execution_count": 18,
     "metadata": {},
     "output_type": "execute_result"
    }
   ],
   "source": [
    "cuisine_freq=data.groupby(\"cuisines\").count()\n",
    "cuisine_freq.iloc[:,1]"
   ]
  },
  {
   "cell_type": "markdown",
   "metadata": {},
   "source": [
    "**8. Variable 'average_cost_for_two'**"
   ]
  },
  {
   "cell_type": "code",
   "execution_count": 19,
   "metadata": {},
   "outputs": [
    {
     "name": "stdout",
     "output_type": "stream",
     "text": [
      "count    60406.000000\n",
      "mean       538.317286\n",
      "std        593.869493\n",
      "min          0.000000\n",
      "25%        200.000000\n",
      "50%        400.000000\n",
      "75%        600.000000\n",
      "max      30000.000000\n",
      "Name: average_cost_for_two, dtype: float64\n",
      "int64\n",
      "145\n",
      "False\n",
      "No.of rows=60406,mean=538.30,Standard Deviation=593.85,Media of Lower Half=200,Median=400,Median of Upper Half=600\n",
      "Data type =int64,Null values = False\n"
     ]
    }
   ],
   "source": [
    "print(data.average_cost_for_two.describe())\n",
    "print(data.average_cost_for_two.dtypes)\n",
    "print(data.average_cost_for_two.nunique())\n",
    "print(data.average_cost_for_two.isnull().any())\n",
    "print(\"No.of rows=60406,mean=538.30,Standard Deviation=593.85,Media of Lower Half=200,Median=400,Median of Upper Half=600\")\n",
    "print(\"Data type =int64,Null values = False\")"
   ]
  },
  {
   "cell_type": "markdown",
   "metadata": {},
   "source": [
    "**9. Variable 'price_range'**"
   ]
  },
  {
   "cell_type": "code",
   "execution_count": 20,
   "metadata": {},
   "outputs": [
    {
     "name": "stdout",
     "output_type": "stream",
     "text": [
      "count     60406\n",
      "unique        4\n",
      "top           1\n",
      "freq      30672\n",
      "Name: price_range, dtype: int64\n",
      "object\n",
      "4\n",
      "False\n",
      "1    30672\n",
      "2    18377\n",
      "3     8299\n",
      "4     3058\n",
      "Name: price_range, dtype: int64\n",
      "No. of rows=60406,Total Uniques=4,Frequent element=1 and count=30672,data type =Object,Null values = False\n"
     ]
    }
   ],
   "source": [
    "print(data.price_range.describe())\n",
    "print(data.price_range.dtypes)\n",
    "print(data.price_range.nunique())\n",
    "print(data.price_range.isnull().any())\n",
    "print(data.price_range.value_counts())\n",
    "print(\"No. of rows=60406,Total Uniques=4,Frequent element=1 and count=30672,data type =Object,Null values = False\")"
   ]
  },
  {
   "cell_type": "markdown",
   "metadata": {},
   "source": [
    "- Visualizing using an exploded pie chart."
   ]
  },
  {
   "cell_type": "code",
   "execution_count": 21,
   "metadata": {},
   "outputs": [
    {
     "data": {
      "image/png": "[encoded data removed]",
      "text/plain": [
       "<Figure size 1152x648 with 1 Axes>"
      ]
     },
     "metadata": {},
     "output_type": "display_data"
    },
    {
     "name": "stdout",
     "output_type": "stream",
     "text": [
      "1,2,3,4 represents the price ranges\n"
     ]
    }
   ],
   "source": [
    "plt.pie(data.price_range.value_counts(),autopct='%0.1f%%',radius=1.2,labels=['1','2','3','4'],explode=[0,0,0,0.5])\n",
    "plt.show()\n",
    "print(\"1,2,3,4 represents the price ranges\")"
   ]
  },
  {
   "cell_type": "markdown",
   "metadata": {},
   "source": [
    "**10. Variable 'highlights'**"
   ]
  },
  {
   "cell_type": "code",
   "execution_count": 22,
   "metadata": {},
   "outputs": [
    {
     "name": "stdout",
     "output_type": "stream",
     "text": [
      "count                                                 59663\n",
      "unique                                                31454\n",
      "top       Dinner, Takeaway Available, Lunch, Cash, Indoo...\n",
      "freq                                                    925\n",
      "Name: highlights, dtype: object\n",
      "object\n",
      "31454\n",
      "True\n",
      "No. of rows=59668,Total Uniques=31454,Frequent element=Dinner, Takeaway Available, Lunch, Cash, Indoor Seating and count=925,data type =Object,Null values = True\n"
     ]
    }
   ],
   "source": [
    "print(data.highlights.describe())\n",
    "print(data.highlights.dtypes)\n",
    "print(data.highlights.nunique())\n",
    "print(data.highlights.isnull().any())\n",
    "print(\"No. of rows=59668,Total Uniques=31454,Frequent element=Dinner, Takeaway Available, Lunch, Cash, Indoor Seating and count=925,data type =Object,Null values = True\")"
   ]
  },
  {
   "cell_type": "markdown",
   "metadata": {},
   "source": [
    "- Function to know the number of times a facility has appeared in the 'Highlights'."
   ]
  },
  {
   "cell_type": "code",
   "execution_count": 23,
   "metadata": {},
   "outputs": [],
   "source": [
    "def findUnique(data_high):\n",
    "    return data.highlights.value_counts().idxmax()"
   ]
  },
  {
   "cell_type": "markdown",
   "metadata": {},
   "source": [
    "- Facility occurs most number of times in the data."
   ]
  },
  {
   "cell_type": "code",
   "execution_count": 24,
   "metadata": {},
   "outputs": [
    {
     "name": "stdout",
     "output_type": "stream",
     "text": [
      "Dinner, Takeaway Available, Lunch, Cash, Indoor Seating \t 925\n"
     ]
    }
   ],
   "source": [
    "most=findUnique(data.highlights)\n",
    "print(most,'\\t',data.highlights[data.highlights==most].count())"
   ]
  },
  {
   "cell_type": "markdown",
   "metadata": {},
   "source": [
    "**11. Variable 'aggregate_rating'** \n",
    "\n"
   ]
  },
  {
   "cell_type": "code",
   "execution_count": 25,
   "metadata": {},
   "outputs": [
    {
     "name": "stdout",
     "output_type": "stream",
     "text": [
      "count    60406.000000\n",
      "mean         3.033045\n",
      "std          1.440580\n",
      "min          0.000000\n",
      "25%          2.900000\n",
      "50%          3.500000\n",
      "75%          4.000000\n",
      "max          4.900000\n",
      "Name: aggregate_rating, dtype: float64\n",
      "float64\n",
      "33\n",
      "False\n",
      "No.of rows=60406,mean=3.032794,Standard Deviation=1.440785,Median of Lower Half=2.9,Median=3.5,Median of Upper Half=4\n",
      "Data type =float64,Null values = False\n"
     ]
    }
   ],
   "source": [
    "print(data.aggregate_rating.describe()) \n",
    "print(data.aggregate_rating.dtypes)\n",
    "print(data.aggregate_rating.nunique())\n",
    "print(data.aggregate_rating.isnull().any())\n",
    "print(\"No.of rows=60406,mean=3.032794,Standard Deviation=1.440785,Median of Lower Half=2.9,Median=3.5,Median of Upper Half=4\")\n",
    "print(\"Data type =float64,Null values = False\")"
   ]
  },
  {
   "cell_type": "markdown",
   "metadata": {},
   "source": [
    "**12. Variable 'rating_text'**\n",
    "\n"
   ]
  },
  {
   "cell_type": "code",
   "execution_count": 26,
   "metadata": {},
   "outputs": [
    {
     "name": "stdout",
     "output_type": "stream",
     "text": [
      "count     60406\n",
      "unique       39\n",
      "top        Good\n",
      "freq      17569\n",
      "Name: rating_text, dtype: object\n",
      "object\n",
      "39\n",
      "False\n",
      "No. of rows=60406,Total Uniques=39,Frequent element=Good and count=17569,data type =Object,Null values = False\n"
     ]
    }
   ],
   "source": [
    "print(data.rating_text.describe()) \n",
    "print(data.rating_text.dtypes)\n",
    "print(data.rating_text.nunique())\n",
    "print(data.rating_text.isnull().any())\n",
    "print(\"No. of rows=60406,Total Uniques=39,Frequent element=Good and count=17569,data type =Object,Null values = False\")"
   ]
  },
  {
   "cell_type": "markdown",
   "metadata": {},
   "source": [
    "**13. Variable 'votes'**"
   ]
  },
  {
   "cell_type": "code",
   "execution_count": 27,
   "metadata": {},
   "outputs": [
    {
     "name": "stdout",
     "output_type": "stream",
     "text": [
      "count    60406.000000\n",
      "mean       261.529865\n",
      "std        728.098809\n",
      "min          0.000000\n",
      "25%          7.000000\n",
      "50%         42.000000\n",
      "75%        207.000000\n",
      "max      42539.000000\n",
      "Name: votes, dtype: float64\n",
      "int64\n",
      "2642\n",
      "False\n",
      "No.of rows=60406,mean=261.5082,Standard Deviation=728.0725,Median of Lower Half=7,Median=42,Median of Upper Half=207\n",
      "Data type =int64,Null values = False\n"
     ]
    }
   ],
   "source": [
    "print(data.votes.describe()) \n",
    "print(data.votes.dtypes)\n",
    "print(data.votes.nunique())\n",
    "print(data.votes.isnull().any())\n",
    "print(\"No.of rows=60406,mean=261.5082,Standard Deviation=728.0725,Median of Lower Half=7,Median=42,Median of Upper Half=207\")\n",
    "print(\"Data type =int64,Null values = False\")"
   ]
  },
  {
   "cell_type": "markdown",
   "metadata": {},
   "source": [
    "**14. Variable 'photo_count'**"
   ]
  },
  {
   "cell_type": "code",
   "execution_count": 28,
   "metadata": {},
   "outputs": [
    {
     "name": "stdout",
     "output_type": "stream",
     "text": [
      "count    60406.000000\n",
      "mean       193.985448\n",
      "std        702.138692\n",
      "min          0.000000\n",
      "25%          1.000000\n",
      "50%         11.000000\n",
      "75%         82.000000\n",
      "max      17702.000000\n",
      "Name: photo_count, dtype: float64\n",
      "int64\n",
      "2514\n",
      "False\n",
      "No.of rows=60406,mean=193.9693,Standard Deviation=702.1118,Median of Lower Half=1,Median=11,Median of Upper Half=82\n",
      "Data type =int64,Null values = False\n"
     ]
    }
   ],
   "source": [
    "print(data.photo_count.describe()) \n",
    "print(data.photo_count.dtypes)\n",
    "print(data.photo_count.nunique())\n",
    "print(data.photo_count.isnull().any())\n",
    "print(\"No.of rows=60406,mean=193.9693,Standard Deviation=702.1118,Median of Lower Half=1,Median=11,Median of Upper Half=82\")\n",
    "print(\"Data type =int64,Null values = False\")"
   ]
  },
  {
   "cell_type": "markdown",
   "metadata": {},
   "source": [
    "**15. Variable 'delivery'**"
   ]
  },
  {
   "cell_type": "code",
   "execution_count": 29,
   "metadata": {},
   "outputs": [
    {
     "name": "stdout",
     "output_type": "stream",
     "text": [
      "count     60406\n",
      "unique        3\n",
      "top          -1\n",
      "freq      41256\n",
      "Name: delivery, dtype: int64\n",
      "object\n",
      "3\n",
      "False\n",
      "No. of rows=6040641256,Total Uniques=3,Frequent element=-1 and count=41256,data type =Object,Null values = False\n"
     ]
    }
   ],
   "source": [
    "print(data.delivery.describe()) \n",
    "print(data.delivery.dtypes)\n",
    "print(data.delivery.nunique())\n",
    "print(data.delivery.isnull().any())  \n",
    "print(\"No. of rows=6040641256,Total Uniques=3,Frequent element=-1 and count=41256,data type =Object,Null values = False\")"
   ]
  },
  {
   "cell_type": "markdown",
   "metadata": {},
   "source": [
    "## Check for missing values"
   ]
  },
  {
   "cell_type": "code",
   "execution_count": 30,
   "metadata": {},
   "outputs": [
    {
     "name": "stdout",
     "output_type": "stream",
     "text": [
      "name                    False\n",
      "establishment            True\n",
      "address                  True\n",
      "city                    False\n",
      "city_id                 False\n",
      "locality                False\n",
      "latitude                 True\n",
      "longitude                True\n",
      "zipcode                  True\n",
      "country_id              False\n",
      "cuisines                 True\n",
      "timings                  True\n",
      "average_cost_for_two    False\n",
      "price_range             False\n",
      "currency                False\n",
      "highlights               True\n",
      "aggregate_rating        False\n",
      "rating_text             False\n",
      "votes                   False\n",
      "photo_count             False\n",
      "delivery                False\n",
      "dtype: bool\n"
     ]
    }
   ],
   "source": [
    "print(data.isnull().any())"
   ]
  },
  {
   "cell_type": "markdown",
   "metadata": {},
   "source": [
    "## Study summary statistics"
   ]
  },
  {
   "cell_type": "markdown",
   "metadata": {},
   "source": [
    "Let us check the summary statistics for numerical variables."
   ]
  },
  {
   "cell_type": "code",
   "execution_count": 31,
   "metadata": {},
   "outputs": [
    {
     "name": "stdout",
     "output_type": "stream",
     "text": [
      "average_cost_for_two :\n",
      "No.of rows = 60411,mean=538.290940,Standard Deviation=593.85285,Median of Lower Half=200,Median of data=400,Median of Upper Half=600,Maximum value=30000\n",
      "\n",
      "aggregate_rating :\n",
      "No.of rows=60411,mean=3.032794,Standard Deviation=1.440785,Median of Lower Half=2.9,Median=3.5,Median of Upper Half=4,Maximum value=4.9\n",
      "\n",
      "votes :\n",
      "No.of rows=60411,mean=261.5082,Standard Deviation=728.0725,Median of Lower Half=7,Median=42,Median of Upper Half=207,Maximum value=42539\n",
      "\n",
      "photo_count :\n",
      "No.of rows=60411,mean=193.9693,Standard Deviation=702.1118,Median of Lower Half=1,Median=11,Median of Upper Half=82,Maximum value=17702\n"
     ]
    },
    {
     "data": {
      "text/html": [
       "<div>\n",
       "<style scoped>\n",
       "    .dataframe tbody tr th:only-of-type {\n",
       "        vertical-align: middle;\n",
       "    }\n",
       "\n",
       "    .dataframe tbody tr th {\n",
       "        vertical-align: top;\n",
       "    }\n",
       "\n",
       "    .dataframe thead th {\n",
       "        text-align: right;\n",
       "    }\n",
       "</style>\n",
       "<table border=\"1\" class=\"dataframe\">\n",
       "  <thead>\n",
       "    <tr style=\"text-align: right;\">\n",
       "      <th></th>\n",
       "      <th>latitude</th>\n",
       "      <th>longitude</th>\n",
       "      <th>average_cost_for_two</th>\n",
       "      <th>aggregate_rating</th>\n",
       "      <th>votes</th>\n",
       "      <th>photo_count</th>\n",
       "    </tr>\n",
       "  </thead>\n",
       "  <tbody>\n",
       "    <tr>\n",
       "      <th>count</th>\n",
       "      <td>59451.000000</td>\n",
       "      <td>59449.000000</td>\n",
       "      <td>60406.000000</td>\n",
       "      <td>60406.000000</td>\n",
       "      <td>60406.000000</td>\n",
       "      <td>60406.000000</td>\n",
       "    </tr>\n",
       "    <tr>\n",
       "      <th>mean</th>\n",
       "      <td>21.523167</td>\n",
       "      <td>77.819681</td>\n",
       "      <td>538.317286</td>\n",
       "      <td>3.033045</td>\n",
       "      <td>261.529865</td>\n",
       "      <td>193.985448</td>\n",
       "    </tr>\n",
       "    <tr>\n",
       "      <th>std</th>\n",
       "      <td>6.458867</td>\n",
       "      <td>4.281413</td>\n",
       "      <td>593.869493</td>\n",
       "      <td>1.440580</td>\n",
       "      <td>728.098809</td>\n",
       "      <td>702.138692</td>\n",
       "    </tr>\n",
       "    <tr>\n",
       "      <th>min</th>\n",
       "      <td>8.384243</td>\n",
       "      <td>69.014446</td>\n",
       "      <td>0.000000</td>\n",
       "      <td>0.000000</td>\n",
       "      <td>0.000000</td>\n",
       "      <td>0.000000</td>\n",
       "    </tr>\n",
       "    <tr>\n",
       "      <th>25%</th>\n",
       "      <td>16.694940</td>\n",
       "      <td>74.844725</td>\n",
       "      <td>200.000000</td>\n",
       "      <td>2.900000</td>\n",
       "      <td>7.000000</td>\n",
       "      <td>1.000000</td>\n",
       "    </tr>\n",
       "    <tr>\n",
       "      <th>50%</th>\n",
       "      <td>22.466652</td>\n",
       "      <td>77.178694</td>\n",
       "      <td>400.000000</td>\n",
       "      <td>3.500000</td>\n",
       "      <td>42.000000</td>\n",
       "      <td>11.000000</td>\n",
       "    </tr>\n",
       "    <tr>\n",
       "      <th>75%</th>\n",
       "      <td>26.755303</td>\n",
       "      <td>79.940275</td>\n",
       "      <td>600.000000</td>\n",
       "      <td>4.000000</td>\n",
       "      <td>207.000000</td>\n",
       "      <td>82.000000</td>\n",
       "    </tr>\n",
       "    <tr>\n",
       "      <th>max</th>\n",
       "      <td>34.214702</td>\n",
       "      <td>91.832769</td>\n",
       "      <td>30000.000000</td>\n",
       "      <td>4.900000</td>\n",
       "      <td>42539.000000</td>\n",
       "      <td>17702.000000</td>\n",
       "    </tr>\n",
       "  </tbody>\n",
       "</table>\n",
       "</div>"
      ],
      "text/plain": [
       "           latitude     longitude  average_cost_for_two  aggregate_rating  \\\n",
       "count  59451.000000  59449.000000          60406.000000      60406.000000   \n",
       "mean      21.523167     77.819681            538.317286          3.033045   \n",
       "std        6.458867      4.281413            593.869493          1.440580   \n",
       "min        8.384243     69.014446              0.000000          0.000000   \n",
       "25%       16.694940     74.844725            200.000000          2.900000   \n",
       "50%       22.466652     77.178694            400.000000          3.500000   \n",
       "75%       26.755303     79.940275            600.000000          4.000000   \n",
       "max       34.214702     91.832769          30000.000000          4.900000   \n",
       "\n",
       "              votes   photo_count  \n",
       "count  60406.000000  60406.000000  \n",
       "mean     261.529865    193.985448  \n",
       "std      728.098809    702.138692  \n",
       "min        0.000000      0.000000  \n",
       "25%        7.000000      1.000000  \n",
       "50%       42.000000     11.000000  \n",
       "75%      207.000000     82.000000  \n",
       "max    42539.000000  17702.000000  "
      ]
     },
     "execution_count": 31,
     "metadata": {},
     "output_type": "execute_result"
    }
   ],
   "source": [
    "print(\"average_cost_for_two :\")\n",
    "print(\"No.of rows = 60411,mean=538.290940,Standard Deviation=593.85285,Median of Lower Half=200,Median of data=400,Median of Upper Half=600,Maximum value=30000\")\n",
    "\n",
    "print(\"\\naggregate_rating :\")\n",
    "print(\"No.of rows=60411,mean=3.032794,Standard Deviation=1.440785,Median of Lower Half=2.9,Median=3.5,Median of Upper Half=4,Maximum value=4.9\")\n",
    "\n",
    "print(\"\\nvotes :\")\n",
    "print(\"No.of rows=60411,mean=261.5082,Standard Deviation=728.0725,Median of Lower Half=7,Median=42,Median of Upper Half=207,Maximum value=42539\")\n",
    "\n",
    "print(\"\\nphoto_count :\")\n",
    "print(\"No.of rows=60411,mean=193.9693,Standard Deviation=702.1118,Median of Lower Half=1,Median=11,Median of Upper Half=82,Maximum value=17702\")\n",
    "data.describe()\n"
   ]
  },
  {
   "cell_type": "markdown",
   "metadata": {},
   "source": [
    "## Study correlation"
   ]
  },
  {
   "cell_type": "code",
   "execution_count": 33,
   "metadata": {},
   "outputs": [
    {
     "name": "stdout",
     "output_type": "stream",
     "text": [
      "INFERENCE :\n",
      "aggregate_rating & average_cost_for_two =>(0.250045) => Weak poisitve Relation\n",
      "aggregate_rating & photo_count =>(0.231656) => Weak poisitve Relation\n",
      "aggregate_rating & votes =>(0.283375) => Weak poisitve Relation\n",
      "average_cost_for_two & photo_count =>(0.330854) => Weak poisitve Relation\n",
      "average_cost_for_two & votes =>(0.263601) => Weak poisitve Relation\n",
      "photo_count & votes =>(0.685662) => Strong poisitve Relation\n"
     ]
    },
    {
     "data": {
      "image/png": "[encoded data removed]",
      "text/plain": [
       "<Figure size 1152x648 with 2 Axes>"
      ]
     },
     "metadata": {
      "needs_background": "light"
     },
     "output_type": "display_data"
    }
   ],
   "source": [
    "corr_matrix=data[[\"aggregate_rating\",\"average_cost_for_two\",\"photo_count\",\"votes\"]].corr()\n",
    "print(\"INFERENCE :\")\n",
    "print(\"aggregate_rating & average_cost_for_two =>(0.250045) => Weak poisitve Relation\")\n",
    "print(\"aggregate_rating & photo_count =>(0.231656) => Weak poisitve Relation\")\n",
    "print(\"aggregate_rating & votes =>(0.283375) => Weak poisitve Relation\")\n",
    "print(\"average_cost_for_two & photo_count =>(0.330854) => Weak poisitve Relation\")\n",
    "print(\"average_cost_for_two & votes =>(0.263601) => Weak poisitve Relation\")\n",
    "print(\"photo_count & votes =>(0.685662) => Strong poisitve Relation\")\n",
    "\n",
    "\n",
    "sb.heatmap(corr_matrix,annot=True)\n",
    "plt.show()"
   ]
  },
  {
   "cell_type": "markdown",
   "metadata": {},
   "source": [
    "## Detect outliers"
   ]
  },
  {
   "cell_type": "code",
   "execution_count": 40,
   "metadata": {},
   "outputs": [
    {
     "data": {
      "text/plain": [
       "<matplotlib.axes._subplots.AxesSubplot at 0x21dafe713c8>"
      ]
     },
     "execution_count": 40,
     "metadata": {},
     "output_type": "execute_result"
    },
    {
     "data": {
      "image/png": "[encoded data removed]",
      "text/plain": [
       "<Figure size 1152x648 with 1 Axes>"
      ]
     },
     "metadata": {
      "needs_background": "light"
     },
     "output_type": "display_data"
    }
   ],
   "source": [
    "data[[\"aggregate_rating\",\"average_cost_for_two\",\"photo_count\",\"votes\"]].boxplot()"
   ]
  },
  {
   "cell_type": "markdown",
   "metadata": {},
   "source": [
    "## Create a new variable 'region'\n"
   ]
  },
  {
   "cell_type": "markdown",
   "metadata": {},
   "source": [
    "Create a variable 'region' with four categories 'northern','eastern', 'southern', 'western' and 'central'. To do so, use the 'city' column, group all cities belonging to the same region. "
   ]
  },
  {
   "cell_type": "code",
   "execution_count": 41,
   "metadata": {},
   "outputs": [
    {
     "data": {
      "text/html": [
       "<div>\n",
       "<style scoped>\n",
       "    .dataframe tbody tr th:only-of-type {\n",
       "        vertical-align: middle;\n",
       "    }\n",
       "\n",
       "    .dataframe tbody tr th {\n",
       "        vertical-align: top;\n",
       "    }\n",
       "\n",
       "    .dataframe thead th {\n",
       "        text-align: right;\n",
       "    }\n",
       "</style>\n",
       "<table border=\"1\" class=\"dataframe\">\n",
       "  <thead>\n",
       "    <tr style=\"text-align: right;\">\n",
       "      <th></th>\n",
       "      <th>name</th>\n",
       "      <th>establishment</th>\n",
       "      <th>address</th>\n",
       "      <th>city</th>\n",
       "      <th>city_id</th>\n",
       "      <th>locality</th>\n",
       "      <th>latitude</th>\n",
       "      <th>longitude</th>\n",
       "      <th>zipcode</th>\n",
       "      <th>country_id</th>\n",
       "      <th>...</th>\n",
       "      <th>average_cost_for_two</th>\n",
       "      <th>price_range</th>\n",
       "      <th>currency</th>\n",
       "      <th>highlights</th>\n",
       "      <th>aggregate_rating</th>\n",
       "      <th>rating_text</th>\n",
       "      <th>votes</th>\n",
       "      <th>photo_count</th>\n",
       "      <th>delivery</th>\n",
       "      <th>region</th>\n",
       "    </tr>\n",
       "  </thead>\n",
       "  <tbody>\n",
       "    <tr>\n",
       "      <th>0</th>\n",
       "      <td>Bikanervala</td>\n",
       "      <td>Quick Bites</td>\n",
       "      <td>Kalyani Point, Near Tulsi Cinema, Bypass Road,...</td>\n",
       "      <td>Agra</td>\n",
       "      <td>34</td>\n",
       "      <td>Khandari</td>\n",
       "      <td>27.2114</td>\n",
       "      <td>78.0024</td>\n",
       "      <td>None</td>\n",
       "      <td>1</td>\n",
       "      <td>...</td>\n",
       "      <td>700</td>\n",
       "      <td>2</td>\n",
       "      <td>Rs.</td>\n",
       "      <td>Lunch, Takeaway Available, Credit Card, Dinner...</td>\n",
       "      <td>4.4</td>\n",
       "      <td>Very Good</td>\n",
       "      <td>814</td>\n",
       "      <td>154</td>\n",
       "      <td>-1</td>\n",
       "      <td>northern</td>\n",
       "    </tr>\n",
       "    <tr>\n",
       "      <th>1</th>\n",
       "      <td>Mama Chicken Mama Franky House</td>\n",
       "      <td>Quick Bites</td>\n",
       "      <td>Main Market, Sadar Bazaar, Agra Cantt, Agra</td>\n",
       "      <td>Agra</td>\n",
       "      <td>34</td>\n",
       "      <td>Agra Cantt</td>\n",
       "      <td>27.1606</td>\n",
       "      <td>78.0116</td>\n",
       "      <td>282001</td>\n",
       "      <td>1</td>\n",
       "      <td>...</td>\n",
       "      <td>600</td>\n",
       "      <td>2</td>\n",
       "      <td>Rs.</td>\n",
       "      <td>Delivery, No Alcohol Available, Dinner, Takeaw...</td>\n",
       "      <td>4.4</td>\n",
       "      <td>Very Good</td>\n",
       "      <td>1203</td>\n",
       "      <td>161</td>\n",
       "      <td>-1</td>\n",
       "      <td>northern</td>\n",
       "    </tr>\n",
       "    <tr>\n",
       "      <th>2</th>\n",
       "      <td>Bhagat Halwai</td>\n",
       "      <td>Quick Bites</td>\n",
       "      <td>62/1, Near Easy Day, West Shivaji Nagar, Goalp...</td>\n",
       "      <td>Agra</td>\n",
       "      <td>34</td>\n",
       "      <td>Shahganj</td>\n",
       "      <td>27.1829</td>\n",
       "      <td>77.9797</td>\n",
       "      <td>282010</td>\n",
       "      <td>1</td>\n",
       "      <td>...</td>\n",
       "      <td>300</td>\n",
       "      <td>1</td>\n",
       "      <td>Rs.</td>\n",
       "      <td>No Alcohol Available, Dinner, Takeaway Availab...</td>\n",
       "      <td>4.2</td>\n",
       "      <td>Very Good</td>\n",
       "      <td>801</td>\n",
       "      <td>107</td>\n",
       "      <td>1</td>\n",
       "      <td>northern</td>\n",
       "    </tr>\n",
       "    <tr>\n",
       "      <th>3</th>\n",
       "      <td>Bhagat Halwai</td>\n",
       "      <td>Quick Bites</td>\n",
       "      <td>Near Anjana Cinema, Nehru Nagar, Civil Lines, ...</td>\n",
       "      <td>Agra</td>\n",
       "      <td>34</td>\n",
       "      <td>Civil Lines</td>\n",
       "      <td>27.2057</td>\n",
       "      <td>78.0048</td>\n",
       "      <td>282002</td>\n",
       "      <td>1</td>\n",
       "      <td>...</td>\n",
       "      <td>300</td>\n",
       "      <td>1</td>\n",
       "      <td>Rs.</td>\n",
       "      <td>Takeaway Available, Credit Card, Lunch, Delive...</td>\n",
       "      <td>4.3</td>\n",
       "      <td>Very Good</td>\n",
       "      <td>693</td>\n",
       "      <td>157</td>\n",
       "      <td>1</td>\n",
       "      <td>northern</td>\n",
       "    </tr>\n",
       "    <tr>\n",
       "      <th>4</th>\n",
       "      <td>The Salt Cafe Kitchen &amp; Bar</td>\n",
       "      <td>Casual Dining</td>\n",
       "      <td>1C,3rd Floor, Fatehabad Road, Tajganj, Agra</td>\n",
       "      <td>Agra</td>\n",
       "      <td>34</td>\n",
       "      <td>Tajganj</td>\n",
       "      <td>27.1577</td>\n",
       "      <td>78.0524</td>\n",
       "      <td>None</td>\n",
       "      <td>1</td>\n",
       "      <td>...</td>\n",
       "      <td>1000</td>\n",
       "      <td>3</td>\n",
       "      <td>Rs.</td>\n",
       "      <td>Lunch, Serves Alcohol, Cash, Credit Card, Dinn...</td>\n",
       "      <td>4.9</td>\n",
       "      <td>Excellent</td>\n",
       "      <td>470</td>\n",
       "      <td>291</td>\n",
       "      <td>1</td>\n",
       "      <td>northern</td>\n",
       "    </tr>\n",
       "    <tr>\n",
       "      <th>...</th>\n",
       "      <td>...</td>\n",
       "      <td>...</td>\n",
       "      <td>...</td>\n",
       "      <td>...</td>\n",
       "      <td>...</td>\n",
       "      <td>...</td>\n",
       "      <td>...</td>\n",
       "      <td>...</td>\n",
       "      <td>...</td>\n",
       "      <td>...</td>\n",
       "      <td>...</td>\n",
       "      <td>...</td>\n",
       "      <td>...</td>\n",
       "      <td>...</td>\n",
       "      <td>...</td>\n",
       "      <td>...</td>\n",
       "      <td>...</td>\n",
       "      <td>...</td>\n",
       "      <td>...</td>\n",
       "      <td>...</td>\n",
       "      <td>...</td>\n",
       "    </tr>\n",
       "    <tr>\n",
       "      <th>211882</th>\n",
       "      <td>Shree Janta Ice Cream</td>\n",
       "      <td>Dessert Parlour</td>\n",
       "      <td>Ground Floor, 5 Ronak Plaza, Tulsidham Char Ra...</td>\n",
       "      <td>Vadodara</td>\n",
       "      <td>32</td>\n",
       "      <td>Manjalpur</td>\n",
       "      <td>22.2705</td>\n",
       "      <td>73.1964</td>\n",
       "      <td>None</td>\n",
       "      <td>1</td>\n",
       "      <td>...</td>\n",
       "      <td>200</td>\n",
       "      <td>1</td>\n",
       "      <td>Rs.</td>\n",
       "      <td>Cash, Takeaway Available, Delivery, Indoor Sea...</td>\n",
       "      <td>2.9</td>\n",
       "      <td>Average</td>\n",
       "      <td>4</td>\n",
       "      <td>1</td>\n",
       "      <td>1</td>\n",
       "      <td>western</td>\n",
       "    </tr>\n",
       "    <tr>\n",
       "      <th>211925</th>\n",
       "      <td>The Grand Thakar</td>\n",
       "      <td>Casual Dining</td>\n",
       "      <td>3rd Floor, Shreem Shalini Mall, Opposite Conqu...</td>\n",
       "      <td>Vadodara</td>\n",
       "      <td>32</td>\n",
       "      <td>Alkapuri</td>\n",
       "      <td>22.3106</td>\n",
       "      <td>73.1712</td>\n",
       "      <td>None</td>\n",
       "      <td>1</td>\n",
       "      <td>...</td>\n",
       "      <td>700</td>\n",
       "      <td>2</td>\n",
       "      <td>Rs.</td>\n",
       "      <td>Dinner, Cash, Debit Card, Lunch, Takeaway Avai...</td>\n",
       "      <td>4.0</td>\n",
       "      <td>Very Good</td>\n",
       "      <td>111</td>\n",
       "      <td>38</td>\n",
       "      <td>-1</td>\n",
       "      <td>western</td>\n",
       "    </tr>\n",
       "    <tr>\n",
       "      <th>211926</th>\n",
       "      <td>Geeta lodge</td>\n",
       "      <td>Casual Dining</td>\n",
       "      <td>Shop 11, Ground Floor, Atlantis K-10, Tower A,...</td>\n",
       "      <td>Vadodara</td>\n",
       "      <td>32</td>\n",
       "      <td>Alkapuri</td>\n",
       "      <td>22.3177</td>\n",
       "      <td>73.1681</td>\n",
       "      <td>None</td>\n",
       "      <td>1</td>\n",
       "      <td>...</td>\n",
       "      <td>250</td>\n",
       "      <td>1</td>\n",
       "      <td>Rs.</td>\n",
       "      <td>Dinner, Cash, Credit Card, Lunch, Takeaway Ava...</td>\n",
       "      <td>3.9</td>\n",
       "      <td>Good</td>\n",
       "      <td>207</td>\n",
       "      <td>14</td>\n",
       "      <td>-1</td>\n",
       "      <td>western</td>\n",
       "    </tr>\n",
       "    <tr>\n",
       "      <th>211940</th>\n",
       "      <td>Raju Omlet</td>\n",
       "      <td>Quick Bites</td>\n",
       "      <td>Mahalaxmi Apartment, Opposite B O B, Karoli Ba...</td>\n",
       "      <td>Vadodara</td>\n",
       "      <td>32</td>\n",
       "      <td>Karelibaug</td>\n",
       "      <td>22.3225</td>\n",
       "      <td>73.1972</td>\n",
       "      <td>None</td>\n",
       "      <td>1</td>\n",
       "      <td>...</td>\n",
       "      <td>300</td>\n",
       "      <td>1</td>\n",
       "      <td>Rs.</td>\n",
       "      <td>Dinner, Cash, Takeaway Available, Debit Card, ...</td>\n",
       "      <td>4.1</td>\n",
       "      <td>Very Good</td>\n",
       "      <td>187</td>\n",
       "      <td>40</td>\n",
       "      <td>1</td>\n",
       "      <td>western</td>\n",
       "    </tr>\n",
       "    <tr>\n",
       "      <th>211942</th>\n",
       "      <td>Subway</td>\n",
       "      <td>Quick Bites</td>\n",
       "      <td>G-2, Vedant Platina, Near Cosmos, Akota, Vadodara</td>\n",
       "      <td>Vadodara</td>\n",
       "      <td>32</td>\n",
       "      <td>Akota</td>\n",
       "      <td>22.27</td>\n",
       "      <td>73.1431</td>\n",
       "      <td>None</td>\n",
       "      <td>1</td>\n",
       "      <td>...</td>\n",
       "      <td>500</td>\n",
       "      <td>2</td>\n",
       "      <td>Rs.</td>\n",
       "      <td>Dinner, Delivery, Credit Card, Lunch, Cash, Ta...</td>\n",
       "      <td>3.7</td>\n",
       "      <td>Good</td>\n",
       "      <td>128</td>\n",
       "      <td>34</td>\n",
       "      <td>1</td>\n",
       "      <td>western</td>\n",
       "    </tr>\n",
       "  </tbody>\n",
       "</table>\n",
       "<p>60406 rows × 22 columns</p>\n",
       "</div>"
      ],
      "text/plain": [
       "                                  name    establishment  \\\n",
       "0                          Bikanervala      Quick Bites   \n",
       "1       Mama Chicken Mama Franky House      Quick Bites   \n",
       "2                        Bhagat Halwai      Quick Bites   \n",
       "3                        Bhagat Halwai      Quick Bites   \n",
       "4          The Salt Cafe Kitchen & Bar    Casual Dining   \n",
       "...                                ...              ...   \n",
       "211882           Shree Janta Ice Cream  Dessert Parlour   \n",
       "211925                The Grand Thakar    Casual Dining   \n",
       "211926                     Geeta lodge    Casual Dining   \n",
       "211940                      Raju Omlet      Quick Bites   \n",
       "211942                          Subway      Quick Bites   \n",
       "\n",
       "                                                  address      city  city_id  \\\n",
       "0       Kalyani Point, Near Tulsi Cinema, Bypass Road,...      Agra       34   \n",
       "1             Main Market, Sadar Bazaar, Agra Cantt, Agra      Agra       34   \n",
       "2       62/1, Near Easy Day, West Shivaji Nagar, Goalp...      Agra       34   \n",
       "3       Near Anjana Cinema, Nehru Nagar, Civil Lines, ...      Agra       34   \n",
       "4             1C,3rd Floor, Fatehabad Road, Tajganj, Agra      Agra       34   \n",
       "...                                                   ...       ...      ...   \n",
       "211882  Ground Floor, 5 Ronak Plaza, Tulsidham Char Ra...  Vadodara       32   \n",
       "211925  3rd Floor, Shreem Shalini Mall, Opposite Conqu...  Vadodara       32   \n",
       "211926  Shop 11, Ground Floor, Atlantis K-10, Tower A,...  Vadodara       32   \n",
       "211940  Mahalaxmi Apartment, Opposite B O B, Karoli Ba...  Vadodara       32   \n",
       "211942  G-2, Vedant Platina, Near Cosmos, Akota, Vadodara  Vadodara       32   \n",
       "\n",
       "           locality latitude longitude zipcode  country_id  ...  \\\n",
       "0          Khandari  27.2114   78.0024    None           1  ...   \n",
       "1        Agra Cantt  27.1606   78.0116  282001           1  ...   \n",
       "2          Shahganj  27.1829   77.9797  282010           1  ...   \n",
       "3       Civil Lines  27.2057   78.0048  282002           1  ...   \n",
       "4           Tajganj  27.1577   78.0524    None           1  ...   \n",
       "...             ...      ...       ...     ...         ...  ...   \n",
       "211882    Manjalpur  22.2705   73.1964    None           1  ...   \n",
       "211925     Alkapuri  22.3106   73.1712    None           1  ...   \n",
       "211926     Alkapuri  22.3177   73.1681    None           1  ...   \n",
       "211940   Karelibaug  22.3225   73.1972    None           1  ...   \n",
       "211942        Akota    22.27   73.1431    None           1  ...   \n",
       "\n",
       "       average_cost_for_two price_range  currency  \\\n",
       "0                       700           2       Rs.   \n",
       "1                       600           2       Rs.   \n",
       "2                       300           1       Rs.   \n",
       "3                       300           1       Rs.   \n",
       "4                      1000           3       Rs.   \n",
       "...                     ...         ...       ...   \n",
       "211882                  200           1       Rs.   \n",
       "211925                  700           2       Rs.   \n",
       "211926                  250           1       Rs.   \n",
       "211940                  300           1       Rs.   \n",
       "211942                  500           2       Rs.   \n",
       "\n",
       "                                               highlights aggregate_rating  \\\n",
       "0       Lunch, Takeaway Available, Credit Card, Dinner...              4.4   \n",
       "1       Delivery, No Alcohol Available, Dinner, Takeaw...              4.4   \n",
       "2       No Alcohol Available, Dinner, Takeaway Availab...              4.2   \n",
       "3       Takeaway Available, Credit Card, Lunch, Delive...              4.3   \n",
       "4       Lunch, Serves Alcohol, Cash, Credit Card, Dinn...              4.9   \n",
       "...                                                   ...              ...   \n",
       "211882  Cash, Takeaway Available, Delivery, Indoor Sea...              2.9   \n",
       "211925  Dinner, Cash, Debit Card, Lunch, Takeaway Avai...              4.0   \n",
       "211926  Dinner, Cash, Credit Card, Lunch, Takeaway Ava...              3.9   \n",
       "211940  Dinner, Cash, Takeaway Available, Debit Card, ...              4.1   \n",
       "211942  Dinner, Delivery, Credit Card, Lunch, Cash, Ta...              3.7   \n",
       "\n",
       "       rating_text  votes photo_count  delivery    region  \n",
       "0        Very Good    814         154        -1  northern  \n",
       "1        Very Good   1203         161        -1  northern  \n",
       "2        Very Good    801         107         1  northern  \n",
       "3        Very Good    693         157         1  northern  \n",
       "4        Excellent    470         291         1  northern  \n",
       "...            ...    ...         ...       ...       ...  \n",
       "211882     Average      4           1         1   western  \n",
       "211925   Very Good    111          38        -1   western  \n",
       "211926        Good    207          14        -1   western  \n",
       "211940   Very Good    187          40         1   western  \n",
       "211942        Good    128          34         1   western  \n",
       "\n",
       "[60406 rows x 22 columns]"
      ]
     },
     "execution_count": 41,
     "metadata": {},
     "output_type": "execute_result"
    }
   ],
   "source": [
    "north_india=[\"Varanasi\",\"Srinagar\",\"Shimla\",\"Rishikesh\",\"Patiala\",\"Nainital\",\"Mussoorie\",\"Meerut\",\"Manali\",\"Ludhiana\",\"Jhansi\",\"Jammu\",\"Jalandhar\",\"Haridwar\",\"Gorakhpur\",\"Dharamshala\",\"Greater Noida\",\"Ghaziabad\",\"Faridabad\",\"Noida\",\"Gurgaon\",\"Dehradun\",\"Delhi\", \"Chandigarh\", \"Jaipur\", \"Lucknow\", \"Kanpur\",\"New Delhi\",\"Agra\",\"Allahabad\",\"Amritsar\",\"Mohali\",\"Panchkula\",\"Zirakpur\",\"Nayagaon\"]\n",
    "west_india=[\"Vadodara\",\"Udaipur\",\"Rajkot\",\"Pushkar\",\"Neemrana\",\"Nashik\",\"Navi Mumbai\",\"Thane\",\"Kota\",\"Kolhapur\",\"Junagadh\",\"Jodhpur\",\"Jamnagar\",\"Darjeeling\",\"Mumbai\", \"Ahmedabad\", \"Pune\", \"Goa\", \"Surat\", \"Nagpur\", \"Aurangabad\",\"Gandhinagar\",\"Ajmer\",\"Amravati\"]\n",
    "south_india=[\"Vizag\",\"Vijayawada\",\"Vellore\",\"Trichy\",\"Tirupati\",\"Salem\",\"Puducherry\",\"Palakkad\",\"Ooty\",\"Mysore\",\"Udupi\",\"Manipal\",\"Mangalore\",\"Madurai\",\"Secunderabad\",\"Guntur\",\"Chennai\", \"Bangalore\", \"Hyderabad\", \"Trivandrum\", \"Coimbatore\", \"Kochi\",\"Alappuzha\",\"Thrissur\"]\n",
    "east_india=[\"Siliguri\",\"Howrah\",\"Kharagpur\",\"Gangtok\",\"Cuttack\",\"Bhubaneshwar\",\"Kolkata\", \"Patna\", \"Jamshedpur\", \"Dhanbad\", \"Ranchi\", \"Bhubaneswar\",\"Guwahati\", \"Agartala\", \"Dimapur\", \"Shillong\", \"Aizawl\", \"Imphal\"]\n",
    "central_india=[\"Raipur\",\"Gwalior\",\"Bhopal\", \"Indore\", \"Jabalpur\"]\n",
    "\n",
    "def f(data):\n",
    "    if data in north_india:\n",
    "        return \"northern\"\n",
    "    elif data in south_india:\n",
    "        return \"southern\"\n",
    "    if data in west_india:\n",
    "        return \"western\"\n",
    "    elif data in east_india:\n",
    "        return \"eastern\"\n",
    "    elif data in central_india:\n",
    "        return \"central\"\n",
    "    else:\n",
    "        return data\n",
    "\n",
    "data[\"region\"]=data.city.apply(f)\n",
    "data"
   ]
  },
  {
   "cell_type": "markdown",
   "metadata": {},
   "source": [
    "## Some more Analysis"
   ]
  },
  {
   "cell_type": "markdown",
   "metadata": {},
   "source": [
    "### 1. To find which cities have expensive restaurants \n",
    "\n",
    "-  Plot the cities which have costliest restaurants. "
   ]
  },
  {
   "cell_type": "code",
   "execution_count": 42,
   "metadata": {},
   "outputs": [
    {
     "data": {
      "image/png": "[encoded data removed]",
      "text/plain": [
       "<Figure size 1152x648 with 1 Axes>"
      ]
     },
     "metadata": {
      "needs_background": "light"
     },
     "output_type": "display_data"
    },
    {
     "name": "stdout",
     "output_type": "stream",
     "text": [
      "INFERENCE\n",
      "Mumbai has the costliest restaurant,no. of costliest restaurants is also high\n",
      "Followed by Hyderabad,Udaipur,Banglore\n",
      "Delhi has more no. of the costliest restaurent as you can see density of points is high\n"
     ]
    }
   ],
   "source": [
    "costly_df=data.sort_values(by=\"average_cost_for_two\",ascending=False).head(150) #sorted by cost in descending,selected top 100 cosliest restaurants\n",
    "plt.scatter(costly_df.city,costly_df.average_cost_for_two)\n",
    "plt.show()\n",
    "print(\"INFERENCE\")\n",
    "print(\"Mumbai has the costliest restaurant,no. of costliest restaurants is also high\")\n",
    "print(\"Followed by Hyderabad,Udaipur,Banglore\")\n",
    "print(\"Delhi has more no. of the costliest restaurent as you can see density of points is high\")\n"
   ]
  },
  {
   "cell_type": "markdown",
   "metadata": {},
   "source": [
    "### 2.  Comparing regions"
   ]
  },
  {
   "cell_type": "code",
   "execution_count": 43,
   "metadata": {},
   "outputs": [
    {
     "name": "stdout",
     "output_type": "stream",
     "text": [
      "['Dinner', 'Cash', 'Takeaway Available', 'Debit Card', 'Serves Alcohol', 'Delivery', 'Credit Card', 'Lunch', 'Table booking recommended', 'Table booking not available', 'Digital Payments Accepted', 'Air Conditioned', 'Kid Friendly', 'Smoking Area', 'Brunch', 'DJ', 'Free Parking', 'Live Sports Screening', 'Sports TV', 'Valet Parking Available', 'Outdoor Seating', 'Beer', 'Indoor Seating', 'Serves Cocktails', 'Table booking for Groups', 'Table reservation required', 'Available for Functions', 'Table Reservation Not Required', 'Resto Bar', 'Private Dining Area Available', 'Group Meal', 'Buffet', 'Lunch Menu', 'Live Entertainment', 'Nightlife', 'City View', 'Fullbar', 'Wine', 'Live Music', 'Rooftop']\n"
     ]
    }
   ],
   "source": [
    "north_highlights=(data.loc[data.region==\"northern\",:])\n",
    "south_highlights=(data.loc[data.region==\"southern\",:])\n",
    "east_highlights=(data.loc[data.region==\"eastern\",:])\n",
    "west_highlights=(data.loc[data.region==\"western\",:])\n",
    "def func(region_highlights):\n",
    "    out=[]\n",
    "    for each in region_highlights:\n",
    "        out.append(data.highlights[data.highlights==each].count())\n",
    "    res = dict(zip(region_highlights, out))\n",
    "    datacop=pd.DataFrame(res.items())\n",
    "    return datacop\n",
    "piv_high_region=data.loc[:, ['highlights', 'region']]\n",
    "piv_high_region=piv_high_region.replace(np.nan,\"None\")\n",
    "uniques_of_highlights=max(piv_high_region.highlights,key=len)\n",
    "list_of_uniques=list(uniques_of_highlights.split(\", \"))\n",
    "print(list_of_uniques)"
   ]
  },
  {
   "cell_type": "markdown",
   "metadata": {},
   "source": [
    "### 2a. Highlights available in restaurants for different regions"
   ]
  },
  {
   "cell_type": "markdown",
   "metadata": {},
   "source": [
    "To cater our analysis we define the regions as nothern, eastern, western and southern."
   ]
  },
  {
   "cell_type": "markdown",
   "metadata": {},
   "source": [
    "We first need to select the unique facilities available in each region and sort according to their frequencies.\n"
   ]
  },
  {
   "cell_type": "markdown",
   "metadata": {},
   "source": [
    "**Highlights of the northern region**"
   ]
  },
  {
   "cell_type": "code",
   "execution_count": 44,
   "metadata": {
    "scrolled": true
   },
   "outputs": [
    {
     "data": {
      "text/html": [
       "<div>\n",
       "<style scoped>\n",
       "    .dataframe tbody tr th:only-of-type {\n",
       "        vertical-align: middle;\n",
       "    }\n",
       "\n",
       "    .dataframe tbody tr th {\n",
       "        vertical-align: top;\n",
       "    }\n",
       "\n",
       "    .dataframe thead th {\n",
       "        text-align: right;\n",
       "    }\n",
       "</style>\n",
       "<table border=\"1\" class=\"dataframe\">\n",
       "  <thead>\n",
       "    <tr style=\"text-align: right;\">\n",
       "      <th></th>\n",
       "      <th>0</th>\n",
       "      <th>1</th>\n",
       "    </tr>\n",
       "  </thead>\n",
       "  <tbody>\n",
       "    <tr>\n",
       "      <th>1</th>\n",
       "      <td>Cash</td>\n",
       "      <td>16829</td>\n",
       "    </tr>\n",
       "    <tr>\n",
       "      <th>2</th>\n",
       "      <td>Takeaway Available</td>\n",
       "      <td>15073</td>\n",
       "    </tr>\n",
       "    <tr>\n",
       "      <th>22</th>\n",
       "      <td>Indoor Seating</td>\n",
       "      <td>12792</td>\n",
       "    </tr>\n",
       "    <tr>\n",
       "      <th>0</th>\n",
       "      <td>Dinner</td>\n",
       "      <td>12642</td>\n",
       "    </tr>\n",
       "    <tr>\n",
       "      <th>7</th>\n",
       "      <td>Lunch</td>\n",
       "      <td>12355</td>\n",
       "    </tr>\n",
       "    <tr>\n",
       "      <th>6</th>\n",
       "      <td>Credit Card</td>\n",
       "      <td>8158</td>\n",
       "    </tr>\n",
       "    <tr>\n",
       "      <th>3</th>\n",
       "      <td>Debit Card</td>\n",
       "      <td>7733</td>\n",
       "    </tr>\n",
       "    <tr>\n",
       "      <th>5</th>\n",
       "      <td>Delivery</td>\n",
       "      <td>7720</td>\n",
       "    </tr>\n",
       "    <tr>\n",
       "      <th>11</th>\n",
       "      <td>Air Conditioned</td>\n",
       "      <td>7598</td>\n",
       "    </tr>\n",
       "    <tr>\n",
       "      <th>10</th>\n",
       "      <td>Digital Payments Accepted</td>\n",
       "      <td>5525</td>\n",
       "    </tr>\n",
       "    <tr>\n",
       "      <th>20</th>\n",
       "      <td>Outdoor Seating</td>\n",
       "      <td>2317</td>\n",
       "    </tr>\n",
       "    <tr>\n",
       "      <th>8</th>\n",
       "      <td>Table booking recommended</td>\n",
       "      <td>1961</td>\n",
       "    </tr>\n",
       "    <tr>\n",
       "      <th>36</th>\n",
       "      <td>Fullbar</td>\n",
       "      <td>1842</td>\n",
       "    </tr>\n",
       "    <tr>\n",
       "      <th>13</th>\n",
       "      <td>Smoking Area</td>\n",
       "      <td>1311</td>\n",
       "    </tr>\n",
       "    <tr>\n",
       "      <th>16</th>\n",
       "      <td>Free Parking</td>\n",
       "      <td>1247</td>\n",
       "    </tr>\n",
       "    <tr>\n",
       "      <th>4</th>\n",
       "      <td>Serves Alcohol</td>\n",
       "      <td>1006</td>\n",
       "    </tr>\n",
       "    <tr>\n",
       "      <th>34</th>\n",
       "      <td>Nightlife</td>\n",
       "      <td>886</td>\n",
       "    </tr>\n",
       "    <tr>\n",
       "      <th>17</th>\n",
       "      <td>Live Sports Screening</td>\n",
       "      <td>774</td>\n",
       "    </tr>\n",
       "    <tr>\n",
       "      <th>19</th>\n",
       "      <td>Valet Parking Available</td>\n",
       "      <td>750</td>\n",
       "    </tr>\n",
       "    <tr>\n",
       "      <th>38</th>\n",
       "      <td>Live Music</td>\n",
       "      <td>733</td>\n",
       "    </tr>\n",
       "    <tr>\n",
       "      <th>27</th>\n",
       "      <td>Table Reservation Not Required</td>\n",
       "      <td>574</td>\n",
       "    </tr>\n",
       "    <tr>\n",
       "      <th>31</th>\n",
       "      <td>Buffet</td>\n",
       "      <td>455</td>\n",
       "    </tr>\n",
       "    <tr>\n",
       "      <th>39</th>\n",
       "      <td>Rooftop</td>\n",
       "      <td>434</td>\n",
       "    </tr>\n",
       "    <tr>\n",
       "      <th>21</th>\n",
       "      <td>Beer</td>\n",
       "      <td>422</td>\n",
       "    </tr>\n",
       "    <tr>\n",
       "      <th>14</th>\n",
       "      <td>Brunch</td>\n",
       "      <td>365</td>\n",
       "    </tr>\n",
       "    <tr>\n",
       "      <th>15</th>\n",
       "      <td>DJ</td>\n",
       "      <td>339</td>\n",
       "    </tr>\n",
       "    <tr>\n",
       "      <th>37</th>\n",
       "      <td>Wine</td>\n",
       "      <td>331</td>\n",
       "    </tr>\n",
       "    <tr>\n",
       "      <th>23</th>\n",
       "      <td>Serves Cocktails</td>\n",
       "      <td>289</td>\n",
       "    </tr>\n",
       "    <tr>\n",
       "      <th>12</th>\n",
       "      <td>Kid Friendly</td>\n",
       "      <td>246</td>\n",
       "    </tr>\n",
       "    <tr>\n",
       "      <th>33</th>\n",
       "      <td>Live Entertainment</td>\n",
       "      <td>210</td>\n",
       "    </tr>\n",
       "    <tr>\n",
       "      <th>25</th>\n",
       "      <td>Table reservation required</td>\n",
       "      <td>201</td>\n",
       "    </tr>\n",
       "    <tr>\n",
       "      <th>9</th>\n",
       "      <td>Table booking not available</td>\n",
       "      <td>145</td>\n",
       "    </tr>\n",
       "    <tr>\n",
       "      <th>29</th>\n",
       "      <td>Private Dining Area Available</td>\n",
       "      <td>129</td>\n",
       "    </tr>\n",
       "    <tr>\n",
       "      <th>30</th>\n",
       "      <td>Group Meal</td>\n",
       "      <td>94</td>\n",
       "    </tr>\n",
       "    <tr>\n",
       "      <th>26</th>\n",
       "      <td>Available for Functions</td>\n",
       "      <td>63</td>\n",
       "    </tr>\n",
       "    <tr>\n",
       "      <th>35</th>\n",
       "      <td>City View</td>\n",
       "      <td>58</td>\n",
       "    </tr>\n",
       "    <tr>\n",
       "      <th>32</th>\n",
       "      <td>Lunch Menu</td>\n",
       "      <td>49</td>\n",
       "    </tr>\n",
       "    <tr>\n",
       "      <th>18</th>\n",
       "      <td>Sports TV</td>\n",
       "      <td>48</td>\n",
       "    </tr>\n",
       "    <tr>\n",
       "      <th>24</th>\n",
       "      <td>Table booking for Groups</td>\n",
       "      <td>38</td>\n",
       "    </tr>\n",
       "    <tr>\n",
       "      <th>28</th>\n",
       "      <td>Resto Bar</td>\n",
       "      <td>20</td>\n",
       "    </tr>\n",
       "  </tbody>\n",
       "</table>\n",
       "</div>"
      ],
      "text/plain": [
       "                                 0      1\n",
       "1                             Cash  16829\n",
       "2               Takeaway Available  15073\n",
       "22                  Indoor Seating  12792\n",
       "0                           Dinner  12642\n",
       "7                            Lunch  12355\n",
       "6                      Credit Card   8158\n",
       "3                       Debit Card   7733\n",
       "5                         Delivery   7720\n",
       "11                 Air Conditioned   7598\n",
       "10       Digital Payments Accepted   5525\n",
       "20                 Outdoor Seating   2317\n",
       "8        Table booking recommended   1961\n",
       "36                         Fullbar   1842\n",
       "13                    Smoking Area   1311\n",
       "16                    Free Parking   1247\n",
       "4                   Serves Alcohol   1006\n",
       "34                       Nightlife    886\n",
       "17           Live Sports Screening    774\n",
       "19         Valet Parking Available    750\n",
       "38                      Live Music    733\n",
       "27  Table Reservation Not Required    574\n",
       "31                          Buffet    455\n",
       "39                         Rooftop    434\n",
       "21                            Beer    422\n",
       "14                          Brunch    365\n",
       "15                              DJ    339\n",
       "37                            Wine    331\n",
       "23                Serves Cocktails    289\n",
       "12                    Kid Friendly    246\n",
       "33              Live Entertainment    210\n",
       "25      Table reservation required    201\n",
       "9      Table booking not available    145\n",
       "29   Private Dining Area Available    129\n",
       "30                      Group Meal     94\n",
       "26         Available for Functions     63\n",
       "35                       City View     58\n",
       "32                      Lunch Menu     49\n",
       "18                       Sports TV     48\n",
       "24        Table booking for Groups     38\n",
       "28                       Resto Bar     20"
      ]
     },
     "execution_count": 44,
     "metadata": {},
     "output_type": "execute_result"
    }
   ],
   "source": [
    "res={}\n",
    "for each in list_of_uniques:\n",
    "    res.update({each:piv_high_region.highlights[piv_high_region[\"highlights\"].str.contains(each,regex=False)&(piv_high_region.region==\"northern\")].count()})\n",
    "datacop_northern_highlights=pd.DataFrame(res.items())\n",
    "datacop_northern_highlights=datacop_northern_highlights.sort_values(by=1,ascending=False)\n",
    "datacop_northern_highlights"
   ]
  },
  {
   "cell_type": "markdown",
   "metadata": {},
   "source": [
    "**Highlights of the eastern region**"
   ]
  },
  {
   "cell_type": "code",
   "execution_count": 45,
   "metadata": {
    "scrolled": true
   },
   "outputs": [
    {
     "data": {
      "text/html": [
       "<div>\n",
       "<style scoped>\n",
       "    .dataframe tbody tr th:only-of-type {\n",
       "        vertical-align: middle;\n",
       "    }\n",
       "\n",
       "    .dataframe tbody tr th {\n",
       "        vertical-align: top;\n",
       "    }\n",
       "\n",
       "    .dataframe thead th {\n",
       "        text-align: right;\n",
       "    }\n",
       "</style>\n",
       "<table border=\"1\" class=\"dataframe\">\n",
       "  <thead>\n",
       "    <tr style=\"text-align: right;\">\n",
       "      <th></th>\n",
       "      <th>0</th>\n",
       "      <th>1</th>\n",
       "    </tr>\n",
       "  </thead>\n",
       "  <tbody>\n",
       "    <tr>\n",
       "      <th>1</th>\n",
       "      <td>Cash</td>\n",
       "      <td>5864</td>\n",
       "    </tr>\n",
       "    <tr>\n",
       "      <th>2</th>\n",
       "      <td>Takeaway Available</td>\n",
       "      <td>5210</td>\n",
       "    </tr>\n",
       "    <tr>\n",
       "      <th>22</th>\n",
       "      <td>Indoor Seating</td>\n",
       "      <td>4334</td>\n",
       "    </tr>\n",
       "    <tr>\n",
       "      <th>0</th>\n",
       "      <td>Dinner</td>\n",
       "      <td>4106</td>\n",
       "    </tr>\n",
       "    <tr>\n",
       "      <th>7</th>\n",
       "      <td>Lunch</td>\n",
       "      <td>3992</td>\n",
       "    </tr>\n",
       "    <tr>\n",
       "      <th>11</th>\n",
       "      <td>Air Conditioned</td>\n",
       "      <td>2943</td>\n",
       "    </tr>\n",
       "    <tr>\n",
       "      <th>6</th>\n",
       "      <td>Credit Card</td>\n",
       "      <td>2880</td>\n",
       "    </tr>\n",
       "    <tr>\n",
       "      <th>3</th>\n",
       "      <td>Debit Card</td>\n",
       "      <td>2667</td>\n",
       "    </tr>\n",
       "    <tr>\n",
       "      <th>5</th>\n",
       "      <td>Delivery</td>\n",
       "      <td>2559</td>\n",
       "    </tr>\n",
       "    <tr>\n",
       "      <th>10</th>\n",
       "      <td>Digital Payments Accepted</td>\n",
       "      <td>1316</td>\n",
       "    </tr>\n",
       "    <tr>\n",
       "      <th>8</th>\n",
       "      <td>Table booking recommended</td>\n",
       "      <td>705</td>\n",
       "    </tr>\n",
       "    <tr>\n",
       "      <th>36</th>\n",
       "      <td>Fullbar</td>\n",
       "      <td>610</td>\n",
       "    </tr>\n",
       "    <tr>\n",
       "      <th>20</th>\n",
       "      <td>Outdoor Seating</td>\n",
       "      <td>553</td>\n",
       "    </tr>\n",
       "    <tr>\n",
       "      <th>27</th>\n",
       "      <td>Table Reservation Not Required</td>\n",
       "      <td>430</td>\n",
       "    </tr>\n",
       "    <tr>\n",
       "      <th>13</th>\n",
       "      <td>Smoking Area</td>\n",
       "      <td>398</td>\n",
       "    </tr>\n",
       "    <tr>\n",
       "      <th>4</th>\n",
       "      <td>Serves Alcohol</td>\n",
       "      <td>352</td>\n",
       "    </tr>\n",
       "    <tr>\n",
       "      <th>16</th>\n",
       "      <td>Free Parking</td>\n",
       "      <td>292</td>\n",
       "    </tr>\n",
       "    <tr>\n",
       "      <th>17</th>\n",
       "      <td>Live Sports Screening</td>\n",
       "      <td>227</td>\n",
       "    </tr>\n",
       "    <tr>\n",
       "      <th>19</th>\n",
       "      <td>Valet Parking Available</td>\n",
       "      <td>185</td>\n",
       "    </tr>\n",
       "    <tr>\n",
       "      <th>34</th>\n",
       "      <td>Nightlife</td>\n",
       "      <td>173</td>\n",
       "    </tr>\n",
       "    <tr>\n",
       "      <th>38</th>\n",
       "      <td>Live Music</td>\n",
       "      <td>149</td>\n",
       "    </tr>\n",
       "    <tr>\n",
       "      <th>31</th>\n",
       "      <td>Buffet</td>\n",
       "      <td>133</td>\n",
       "    </tr>\n",
       "    <tr>\n",
       "      <th>14</th>\n",
       "      <td>Brunch</td>\n",
       "      <td>110</td>\n",
       "    </tr>\n",
       "    <tr>\n",
       "      <th>12</th>\n",
       "      <td>Kid Friendly</td>\n",
       "      <td>91</td>\n",
       "    </tr>\n",
       "    <tr>\n",
       "      <th>39</th>\n",
       "      <td>Rooftop</td>\n",
       "      <td>84</td>\n",
       "    </tr>\n",
       "    <tr>\n",
       "      <th>15</th>\n",
       "      <td>DJ</td>\n",
       "      <td>79</td>\n",
       "    </tr>\n",
       "    <tr>\n",
       "      <th>33</th>\n",
       "      <td>Live Entertainment</td>\n",
       "      <td>78</td>\n",
       "    </tr>\n",
       "    <tr>\n",
       "      <th>23</th>\n",
       "      <td>Serves Cocktails</td>\n",
       "      <td>64</td>\n",
       "    </tr>\n",
       "    <tr>\n",
       "      <th>29</th>\n",
       "      <td>Private Dining Area Available</td>\n",
       "      <td>63</td>\n",
       "    </tr>\n",
       "    <tr>\n",
       "      <th>9</th>\n",
       "      <td>Table booking not available</td>\n",
       "      <td>59</td>\n",
       "    </tr>\n",
       "    <tr>\n",
       "      <th>21</th>\n",
       "      <td>Beer</td>\n",
       "      <td>56</td>\n",
       "    </tr>\n",
       "    <tr>\n",
       "      <th>37</th>\n",
       "      <td>Wine</td>\n",
       "      <td>42</td>\n",
       "    </tr>\n",
       "    <tr>\n",
       "      <th>30</th>\n",
       "      <td>Group Meal</td>\n",
       "      <td>37</td>\n",
       "    </tr>\n",
       "    <tr>\n",
       "      <th>24</th>\n",
       "      <td>Table booking for Groups</td>\n",
       "      <td>28</td>\n",
       "    </tr>\n",
       "    <tr>\n",
       "      <th>35</th>\n",
       "      <td>City View</td>\n",
       "      <td>28</td>\n",
       "    </tr>\n",
       "    <tr>\n",
       "      <th>25</th>\n",
       "      <td>Table reservation required</td>\n",
       "      <td>27</td>\n",
       "    </tr>\n",
       "    <tr>\n",
       "      <th>32</th>\n",
       "      <td>Lunch Menu</td>\n",
       "      <td>21</td>\n",
       "    </tr>\n",
       "    <tr>\n",
       "      <th>18</th>\n",
       "      <td>Sports TV</td>\n",
       "      <td>20</td>\n",
       "    </tr>\n",
       "    <tr>\n",
       "      <th>26</th>\n",
       "      <td>Available for Functions</td>\n",
       "      <td>13</td>\n",
       "    </tr>\n",
       "    <tr>\n",
       "      <th>28</th>\n",
       "      <td>Resto Bar</td>\n",
       "      <td>6</td>\n",
       "    </tr>\n",
       "  </tbody>\n",
       "</table>\n",
       "</div>"
      ],
      "text/plain": [
       "                                 0     1\n",
       "1                             Cash  5864\n",
       "2               Takeaway Available  5210\n",
       "22                  Indoor Seating  4334\n",
       "0                           Dinner  4106\n",
       "7                            Lunch  3992\n",
       "11                 Air Conditioned  2943\n",
       "6                      Credit Card  2880\n",
       "3                       Debit Card  2667\n",
       "5                         Delivery  2559\n",
       "10       Digital Payments Accepted  1316\n",
       "8        Table booking recommended   705\n",
       "36                         Fullbar   610\n",
       "20                 Outdoor Seating   553\n",
       "27  Table Reservation Not Required   430\n",
       "13                    Smoking Area   398\n",
       "4                   Serves Alcohol   352\n",
       "16                    Free Parking   292\n",
       "17           Live Sports Screening   227\n",
       "19         Valet Parking Available   185\n",
       "34                       Nightlife   173\n",
       "38                      Live Music   149\n",
       "31                          Buffet   133\n",
       "14                          Brunch   110\n",
       "12                    Kid Friendly    91\n",
       "39                         Rooftop    84\n",
       "15                              DJ    79\n",
       "33              Live Entertainment    78\n",
       "23                Serves Cocktails    64\n",
       "29   Private Dining Area Available    63\n",
       "9      Table booking not available    59\n",
       "21                            Beer    56\n",
       "37                            Wine    42\n",
       "30                      Group Meal    37\n",
       "24        Table booking for Groups    28\n",
       "35                       City View    28\n",
       "25      Table reservation required    27\n",
       "32                      Lunch Menu    21\n",
       "18                       Sports TV    20\n",
       "26         Available for Functions    13\n",
       "28                       Resto Bar     6"
      ]
     },
     "execution_count": 45,
     "metadata": {},
     "output_type": "execute_result"
    }
   ],
   "source": [
    "res={}\n",
    "for each in list_of_uniques:\n",
    "    res.update({each:piv_high_region.highlights[piv_high_region[\"highlights\"].str.contains(each,regex=False)&(piv_high_region.region==\"eastern\")].count()})\n",
    "datacop_eastern_highlights=pd.DataFrame(res.items())\n",
    "datacop_eastern_highlights=datacop_eastern_highlights.sort_values(by=1,ascending=False)\n",
    "datacop_eastern_highlights"
   ]
  },
  {
   "cell_type": "markdown",
   "metadata": {},
   "source": [
    "**Highlights of the southern region**"
   ]
  },
  {
   "cell_type": "code",
   "execution_count": 46,
   "metadata": {
    "scrolled": false
   },
   "outputs": [
    {
     "data": {
      "text/html": [
       "<div>\n",
       "<style scoped>\n",
       "    .dataframe tbody tr th:only-of-type {\n",
       "        vertical-align: middle;\n",
       "    }\n",
       "\n",
       "    .dataframe tbody tr th {\n",
       "        vertical-align: top;\n",
       "    }\n",
       "\n",
       "    .dataframe thead th {\n",
       "        text-align: right;\n",
       "    }\n",
       "</style>\n",
       "<table border=\"1\" class=\"dataframe\">\n",
       "  <thead>\n",
       "    <tr style=\"text-align: right;\">\n",
       "      <th></th>\n",
       "      <th>0</th>\n",
       "      <th>1</th>\n",
       "    </tr>\n",
       "  </thead>\n",
       "  <tbody>\n",
       "    <tr>\n",
       "      <th>1</th>\n",
       "      <td>Cash</td>\n",
       "      <td>14753</td>\n",
       "    </tr>\n",
       "    <tr>\n",
       "      <th>2</th>\n",
       "      <td>Takeaway Available</td>\n",
       "      <td>13109</td>\n",
       "    </tr>\n",
       "    <tr>\n",
       "      <th>22</th>\n",
       "      <td>Indoor Seating</td>\n",
       "      <td>12621</td>\n",
       "    </tr>\n",
       "    <tr>\n",
       "      <th>0</th>\n",
       "      <td>Dinner</td>\n",
       "      <td>10897</td>\n",
       "    </tr>\n",
       "    <tr>\n",
       "      <th>7</th>\n",
       "      <td>Lunch</td>\n",
       "      <td>10497</td>\n",
       "    </tr>\n",
       "    <tr>\n",
       "      <th>6</th>\n",
       "      <td>Credit Card</td>\n",
       "      <td>9401</td>\n",
       "    </tr>\n",
       "    <tr>\n",
       "      <th>3</th>\n",
       "      <td>Debit Card</td>\n",
       "      <td>8598</td>\n",
       "    </tr>\n",
       "    <tr>\n",
       "      <th>11</th>\n",
       "      <td>Air Conditioned</td>\n",
       "      <td>7125</td>\n",
       "    </tr>\n",
       "    <tr>\n",
       "      <th>5</th>\n",
       "      <td>Delivery</td>\n",
       "      <td>6855</td>\n",
       "    </tr>\n",
       "    <tr>\n",
       "      <th>10</th>\n",
       "      <td>Digital Payments Accepted</td>\n",
       "      <td>2895</td>\n",
       "    </tr>\n",
       "    <tr>\n",
       "      <th>8</th>\n",
       "      <td>Table booking recommended</td>\n",
       "      <td>2197</td>\n",
       "    </tr>\n",
       "    <tr>\n",
       "      <th>20</th>\n",
       "      <td>Outdoor Seating</td>\n",
       "      <td>1883</td>\n",
       "    </tr>\n",
       "    <tr>\n",
       "      <th>36</th>\n",
       "      <td>Fullbar</td>\n",
       "      <td>1557</td>\n",
       "    </tr>\n",
       "    <tr>\n",
       "      <th>16</th>\n",
       "      <td>Free Parking</td>\n",
       "      <td>1392</td>\n",
       "    </tr>\n",
       "    <tr>\n",
       "      <th>19</th>\n",
       "      <td>Valet Parking Available</td>\n",
       "      <td>1314</td>\n",
       "    </tr>\n",
       "    <tr>\n",
       "      <th>13</th>\n",
       "      <td>Smoking Area</td>\n",
       "      <td>1120</td>\n",
       "    </tr>\n",
       "    <tr>\n",
       "      <th>27</th>\n",
       "      <td>Table Reservation Not Required</td>\n",
       "      <td>1084</td>\n",
       "    </tr>\n",
       "    <tr>\n",
       "      <th>4</th>\n",
       "      <td>Serves Alcohol</td>\n",
       "      <td>933</td>\n",
       "    </tr>\n",
       "    <tr>\n",
       "      <th>34</th>\n",
       "      <td>Nightlife</td>\n",
       "      <td>735</td>\n",
       "    </tr>\n",
       "    <tr>\n",
       "      <th>31</th>\n",
       "      <td>Buffet</td>\n",
       "      <td>660</td>\n",
       "    </tr>\n",
       "    <tr>\n",
       "      <th>17</th>\n",
       "      <td>Live Sports Screening</td>\n",
       "      <td>596</td>\n",
       "    </tr>\n",
       "    <tr>\n",
       "      <th>38</th>\n",
       "      <td>Live Music</td>\n",
       "      <td>425</td>\n",
       "    </tr>\n",
       "    <tr>\n",
       "      <th>25</th>\n",
       "      <td>Table reservation required</td>\n",
       "      <td>407</td>\n",
       "    </tr>\n",
       "    <tr>\n",
       "      <th>12</th>\n",
       "      <td>Kid Friendly</td>\n",
       "      <td>381</td>\n",
       "    </tr>\n",
       "    <tr>\n",
       "      <th>39</th>\n",
       "      <td>Rooftop</td>\n",
       "      <td>345</td>\n",
       "    </tr>\n",
       "    <tr>\n",
       "      <th>21</th>\n",
       "      <td>Beer</td>\n",
       "      <td>318</td>\n",
       "    </tr>\n",
       "    <tr>\n",
       "      <th>23</th>\n",
       "      <td>Serves Cocktails</td>\n",
       "      <td>280</td>\n",
       "    </tr>\n",
       "    <tr>\n",
       "      <th>14</th>\n",
       "      <td>Brunch</td>\n",
       "      <td>279</td>\n",
       "    </tr>\n",
       "    <tr>\n",
       "      <th>37</th>\n",
       "      <td>Wine</td>\n",
       "      <td>237</td>\n",
       "    </tr>\n",
       "    <tr>\n",
       "      <th>33</th>\n",
       "      <td>Live Entertainment</td>\n",
       "      <td>189</td>\n",
       "    </tr>\n",
       "    <tr>\n",
       "      <th>29</th>\n",
       "      <td>Private Dining Area Available</td>\n",
       "      <td>176</td>\n",
       "    </tr>\n",
       "    <tr>\n",
       "      <th>15</th>\n",
       "      <td>DJ</td>\n",
       "      <td>172</td>\n",
       "    </tr>\n",
       "    <tr>\n",
       "      <th>9</th>\n",
       "      <td>Table booking not available</td>\n",
       "      <td>94</td>\n",
       "    </tr>\n",
       "    <tr>\n",
       "      <th>24</th>\n",
       "      <td>Table booking for Groups</td>\n",
       "      <td>74</td>\n",
       "    </tr>\n",
       "    <tr>\n",
       "      <th>30</th>\n",
       "      <td>Group Meal</td>\n",
       "      <td>67</td>\n",
       "    </tr>\n",
       "    <tr>\n",
       "      <th>18</th>\n",
       "      <td>Sports TV</td>\n",
       "      <td>61</td>\n",
       "    </tr>\n",
       "    <tr>\n",
       "      <th>35</th>\n",
       "      <td>City View</td>\n",
       "      <td>59</td>\n",
       "    </tr>\n",
       "    <tr>\n",
       "      <th>28</th>\n",
       "      <td>Resto Bar</td>\n",
       "      <td>40</td>\n",
       "    </tr>\n",
       "    <tr>\n",
       "      <th>26</th>\n",
       "      <td>Available for Functions</td>\n",
       "      <td>25</td>\n",
       "    </tr>\n",
       "    <tr>\n",
       "      <th>32</th>\n",
       "      <td>Lunch Menu</td>\n",
       "      <td>22</td>\n",
       "    </tr>\n",
       "  </tbody>\n",
       "</table>\n",
       "</div>"
      ],
      "text/plain": [
       "                                 0      1\n",
       "1                             Cash  14753\n",
       "2               Takeaway Available  13109\n",
       "22                  Indoor Seating  12621\n",
       "0                           Dinner  10897\n",
       "7                            Lunch  10497\n",
       "6                      Credit Card   9401\n",
       "3                       Debit Card   8598\n",
       "11                 Air Conditioned   7125\n",
       "5                         Delivery   6855\n",
       "10       Digital Payments Accepted   2895\n",
       "8        Table booking recommended   2197\n",
       "20                 Outdoor Seating   1883\n",
       "36                         Fullbar   1557\n",
       "16                    Free Parking   1392\n",
       "19         Valet Parking Available   1314\n",
       "13                    Smoking Area   1120\n",
       "27  Table Reservation Not Required   1084\n",
       "4                   Serves Alcohol    933\n",
       "34                       Nightlife    735\n",
       "31                          Buffet    660\n",
       "17           Live Sports Screening    596\n",
       "38                      Live Music    425\n",
       "25      Table reservation required    407\n",
       "12                    Kid Friendly    381\n",
       "39                         Rooftop    345\n",
       "21                            Beer    318\n",
       "23                Serves Cocktails    280\n",
       "14                          Brunch    279\n",
       "37                            Wine    237\n",
       "33              Live Entertainment    189\n",
       "29   Private Dining Area Available    176\n",
       "15                              DJ    172\n",
       "9      Table booking not available     94\n",
       "24        Table booking for Groups     74\n",
       "30                      Group Meal     67\n",
       "18                       Sports TV     61\n",
       "35                       City View     59\n",
       "28                       Resto Bar     40\n",
       "26         Available for Functions     25\n",
       "32                      Lunch Menu     22"
      ]
     },
     "execution_count": 46,
     "metadata": {},
     "output_type": "execute_result"
    }
   ],
   "source": [
    "res={}\n",
    "for each in list_of_uniques:\n",
    "    res.update({each:piv_high_region.highlights[piv_high_region[\"highlights\"].str.contains(each,regex=False)&(piv_high_region.region==\"southern\")].count()})\n",
    "datacop_southern_highlights=pd.DataFrame(res.items())\n",
    "datacop_southern_highlights=datacop_southern_highlights.sort_values(by=1,ascending=False)\n",
    "datacop_southern_highlights"
   ]
  },
  {
   "cell_type": "markdown",
   "metadata": {},
   "source": [
    "**Highlights of the western region**"
   ]
  },
  {
   "cell_type": "code",
   "execution_count": 47,
   "metadata": {},
   "outputs": [
    {
     "data": {
      "text/html": [
       "<div>\n",
       "<style scoped>\n",
       "    .dataframe tbody tr th:only-of-type {\n",
       "        vertical-align: middle;\n",
       "    }\n",
       "\n",
       "    .dataframe tbody tr th {\n",
       "        vertical-align: top;\n",
       "    }\n",
       "\n",
       "    .dataframe thead th {\n",
       "        text-align: right;\n",
       "    }\n",
       "</style>\n",
       "<table border=\"1\" class=\"dataframe\">\n",
       "  <thead>\n",
       "    <tr style=\"text-align: right;\">\n",
       "      <th></th>\n",
       "      <th>0</th>\n",
       "      <th>1</th>\n",
       "    </tr>\n",
       "  </thead>\n",
       "  <tbody>\n",
       "    <tr>\n",
       "      <th>1</th>\n",
       "      <td>Cash</td>\n",
       "      <td>16087</td>\n",
       "    </tr>\n",
       "    <tr>\n",
       "      <th>2</th>\n",
       "      <td>Takeaway Available</td>\n",
       "      <td>13802</td>\n",
       "    </tr>\n",
       "    <tr>\n",
       "      <th>22</th>\n",
       "      <td>Indoor Seating</td>\n",
       "      <td>12123</td>\n",
       "    </tr>\n",
       "    <tr>\n",
       "      <th>0</th>\n",
       "      <td>Dinner</td>\n",
       "      <td>11314</td>\n",
       "    </tr>\n",
       "    <tr>\n",
       "      <th>7</th>\n",
       "      <td>Lunch</td>\n",
       "      <td>10558</td>\n",
       "    </tr>\n",
       "    <tr>\n",
       "      <th>6</th>\n",
       "      <td>Credit Card</td>\n",
       "      <td>8884</td>\n",
       "    </tr>\n",
       "    <tr>\n",
       "      <th>3</th>\n",
       "      <td>Debit Card</td>\n",
       "      <td>8175</td>\n",
       "    </tr>\n",
       "    <tr>\n",
       "      <th>5</th>\n",
       "      <td>Delivery</td>\n",
       "      <td>7839</td>\n",
       "    </tr>\n",
       "    <tr>\n",
       "      <th>11</th>\n",
       "      <td>Air Conditioned</td>\n",
       "      <td>7112</td>\n",
       "    </tr>\n",
       "    <tr>\n",
       "      <th>10</th>\n",
       "      <td>Digital Payments Accepted</td>\n",
       "      <td>5380</td>\n",
       "    </tr>\n",
       "    <tr>\n",
       "      <th>20</th>\n",
       "      <td>Outdoor Seating</td>\n",
       "      <td>4379</td>\n",
       "    </tr>\n",
       "    <tr>\n",
       "      <th>36</th>\n",
       "      <td>Fullbar</td>\n",
       "      <td>2386</td>\n",
       "    </tr>\n",
       "    <tr>\n",
       "      <th>16</th>\n",
       "      <td>Free Parking</td>\n",
       "      <td>1850</td>\n",
       "    </tr>\n",
       "    <tr>\n",
       "      <th>8</th>\n",
       "      <td>Table booking recommended</td>\n",
       "      <td>1817</td>\n",
       "    </tr>\n",
       "    <tr>\n",
       "      <th>13</th>\n",
       "      <td>Smoking Area</td>\n",
       "      <td>1662</td>\n",
       "    </tr>\n",
       "    <tr>\n",
       "      <th>4</th>\n",
       "      <td>Serves Alcohol</td>\n",
       "      <td>1562</td>\n",
       "    </tr>\n",
       "    <tr>\n",
       "      <th>19</th>\n",
       "      <td>Valet Parking Available</td>\n",
       "      <td>1186</td>\n",
       "    </tr>\n",
       "    <tr>\n",
       "      <th>27</th>\n",
       "      <td>Table Reservation Not Required</td>\n",
       "      <td>1058</td>\n",
       "    </tr>\n",
       "    <tr>\n",
       "      <th>17</th>\n",
       "      <td>Live Sports Screening</td>\n",
       "      <td>980</td>\n",
       "    </tr>\n",
       "    <tr>\n",
       "      <th>34</th>\n",
       "      <td>Nightlife</td>\n",
       "      <td>851</td>\n",
       "    </tr>\n",
       "    <tr>\n",
       "      <th>38</th>\n",
       "      <td>Live Music</td>\n",
       "      <td>674</td>\n",
       "    </tr>\n",
       "    <tr>\n",
       "      <th>14</th>\n",
       "      <td>Brunch</td>\n",
       "      <td>527</td>\n",
       "    </tr>\n",
       "    <tr>\n",
       "      <th>31</th>\n",
       "      <td>Buffet</td>\n",
       "      <td>505</td>\n",
       "    </tr>\n",
       "    <tr>\n",
       "      <th>12</th>\n",
       "      <td>Kid Friendly</td>\n",
       "      <td>473</td>\n",
       "    </tr>\n",
       "    <tr>\n",
       "      <th>23</th>\n",
       "      <td>Serves Cocktails</td>\n",
       "      <td>411</td>\n",
       "    </tr>\n",
       "    <tr>\n",
       "      <th>21</th>\n",
       "      <td>Beer</td>\n",
       "      <td>382</td>\n",
       "    </tr>\n",
       "    <tr>\n",
       "      <th>39</th>\n",
       "      <td>Rooftop</td>\n",
       "      <td>372</td>\n",
       "    </tr>\n",
       "    <tr>\n",
       "      <th>37</th>\n",
       "      <td>Wine</td>\n",
       "      <td>342</td>\n",
       "    </tr>\n",
       "    <tr>\n",
       "      <th>33</th>\n",
       "      <td>Live Entertainment</td>\n",
       "      <td>311</td>\n",
       "    </tr>\n",
       "    <tr>\n",
       "      <th>15</th>\n",
       "      <td>DJ</td>\n",
       "      <td>290</td>\n",
       "    </tr>\n",
       "    <tr>\n",
       "      <th>29</th>\n",
       "      <td>Private Dining Area Available</td>\n",
       "      <td>270</td>\n",
       "    </tr>\n",
       "    <tr>\n",
       "      <th>30</th>\n",
       "      <td>Group Meal</td>\n",
       "      <td>217</td>\n",
       "    </tr>\n",
       "    <tr>\n",
       "      <th>25</th>\n",
       "      <td>Table reservation required</td>\n",
       "      <td>211</td>\n",
       "    </tr>\n",
       "    <tr>\n",
       "      <th>18</th>\n",
       "      <td>Sports TV</td>\n",
       "      <td>130</td>\n",
       "    </tr>\n",
       "    <tr>\n",
       "      <th>24</th>\n",
       "      <td>Table booking for Groups</td>\n",
       "      <td>124</td>\n",
       "    </tr>\n",
       "    <tr>\n",
       "      <th>26</th>\n",
       "      <td>Available for Functions</td>\n",
       "      <td>122</td>\n",
       "    </tr>\n",
       "    <tr>\n",
       "      <th>9</th>\n",
       "      <td>Table booking not available</td>\n",
       "      <td>93</td>\n",
       "    </tr>\n",
       "    <tr>\n",
       "      <th>28</th>\n",
       "      <td>Resto Bar</td>\n",
       "      <td>84</td>\n",
       "    </tr>\n",
       "    <tr>\n",
       "      <th>32</th>\n",
       "      <td>Lunch Menu</td>\n",
       "      <td>66</td>\n",
       "    </tr>\n",
       "    <tr>\n",
       "      <th>35</th>\n",
       "      <td>City View</td>\n",
       "      <td>57</td>\n",
       "    </tr>\n",
       "  </tbody>\n",
       "</table>\n",
       "</div>"
      ],
      "text/plain": [
       "                                 0      1\n",
       "1                             Cash  16087\n",
       "2               Takeaway Available  13802\n",
       "22                  Indoor Seating  12123\n",
       "0                           Dinner  11314\n",
       "7                            Lunch  10558\n",
       "6                      Credit Card   8884\n",
       "3                       Debit Card   8175\n",
       "5                         Delivery   7839\n",
       "11                 Air Conditioned   7112\n",
       "10       Digital Payments Accepted   5380\n",
       "20                 Outdoor Seating   4379\n",
       "36                         Fullbar   2386\n",
       "16                    Free Parking   1850\n",
       "8        Table booking recommended   1817\n",
       "13                    Smoking Area   1662\n",
       "4                   Serves Alcohol   1562\n",
       "19         Valet Parking Available   1186\n",
       "27  Table Reservation Not Required   1058\n",
       "17           Live Sports Screening    980\n",
       "34                       Nightlife    851\n",
       "38                      Live Music    674\n",
       "14                          Brunch    527\n",
       "31                          Buffet    505\n",
       "12                    Kid Friendly    473\n",
       "23                Serves Cocktails    411\n",
       "21                            Beer    382\n",
       "39                         Rooftop    372\n",
       "37                            Wine    342\n",
       "33              Live Entertainment    311\n",
       "15                              DJ    290\n",
       "29   Private Dining Area Available    270\n",
       "30                      Group Meal    217\n",
       "25      Table reservation required    211\n",
       "18                       Sports TV    130\n",
       "24        Table booking for Groups    124\n",
       "26         Available for Functions    122\n",
       "9      Table booking not available     93\n",
       "28                       Resto Bar     84\n",
       "32                      Lunch Menu     66\n",
       "35                       City View     57"
      ]
     },
     "execution_count": 47,
     "metadata": {},
     "output_type": "execute_result"
    }
   ],
   "source": [
    "res={}\n",
    "for each in list_of_uniques:\n",
    "    res.update({each:piv_high_region.highlights[piv_high_region[\"highlights\"].str.contains(each,regex=False)&(piv_high_region.region==\"western\")].count()})\n",
    "datacop_western_highlights=pd.DataFrame(res.items())\n",
    "datacop_western_highlights=datacop_western_highlights.sort_values(by=1,ascending=False)\n",
    "datacop_western_highlights"
   ]
  },
  {
   "cell_type": "markdown",
   "metadata": {},
   "source": [
    "#### Plot the barplot for different regions"
   ]
  },
  {
   "cell_type": "markdown",
   "metadata": {},
   "source": [
    "We shall now plot the graphs for top 10 highlights."
   ]
  },
  {
   "cell_type": "code",
   "execution_count": 48,
   "metadata": {},
   "outputs": [
    {
     "data": {
      "image/png": "[encoded data removed]",
      "text/plain": [
       "<Figure size 1152x648 with 1 Axes>"
      ]
     },
     "metadata": {
      "needs_background": "light"
     },
     "output_type": "display_data"
    },
    {
     "data": {
      "image/png": "[encoded data removed]",
      "text/plain": [
       "<Figure size 1152x648 with 1 Axes>"
      ]
     },
     "metadata": {
      "needs_background": "light"
     },
     "output_type": "display_data"
    },
    {
     "data": {
      "image/png": "[encoded data removed]",
      "text/plain": [
       "<Figure size 1152x648 with 1 Axes>"
      ]
     },
     "metadata": {
      "needs_background": "light"
     },
     "output_type": "display_data"
    },
    {
     "data": {
      "image/png": "[encoded data removed]",
      "text/plain": [
       "<Figure size 1152x648 with 1 Axes>"
      ]
     },
     "metadata": {
      "needs_background": "light"
     },
     "output_type": "display_data"
    }
   ],
   "source": [
    "datacop_northern_highlights=datacop_northern_highlights.head(10)\n",
    "plt.bar(datacop_northern_highlights[0],datacop_northern_highlights[1])\n",
    "plt.title(\"Northern\")\n",
    "plt.show()\n",
    "\n",
    "datacop_southern_highlights=datacop_southern_highlights.head(10)\n",
    "plt.bar(datacop_southern_highlights[0],datacop_southern_highlights[1])\n",
    "plt.title(\"Southern\")\n",
    "plt.show()\n",
    "\n",
    "datacop_eastern_highlights=datacop_eastern_highlights.head(10)\n",
    "plt.bar(datacop_eastern_highlights[0],datacop_eastern_highlights[1])\n",
    "plt.title(\"Eastern\")\n",
    "plt.show()\n",
    "\n",
    "datacop_western_highlights=datacop_western_highlights.head(10)\n",
    "plt.bar(datacop_western_highlights[0],datacop_western_highlights[1])\n",
    "plt.title(\"Western\")\n",
    "plt.show()\n"
   ]
  },
  {
   "cell_type": "markdown",
   "metadata": {},
   "source": [
    "### 2b. Cuisines available in restaurants for different regions"
   ]
  },
  {
   "cell_type": "markdown",
   "metadata": {},
   "source": [
    "**Cuisines in the northern region**"
   ]
  },
  {
   "cell_type": "code",
   "execution_count": 49,
   "metadata": {},
   "outputs": [
    {
     "data": {
      "text/html": [
       "<div>\n",
       "<style scoped>\n",
       "    .dataframe tbody tr th:only-of-type {\n",
       "        vertical-align: middle;\n",
       "    }\n",
       "\n",
       "    .dataframe tbody tr th {\n",
       "        vertical-align: top;\n",
       "    }\n",
       "\n",
       "    .dataframe thead th {\n",
       "        text-align: right;\n",
       "    }\n",
       "</style>\n",
       "<table border=\"1\" class=\"dataframe\">\n",
       "  <thead>\n",
       "    <tr style=\"text-align: right;\">\n",
       "      <th></th>\n",
       "      <th>cuisines</th>\n",
       "      <th>name</th>\n",
       "    </tr>\n",
       "  </thead>\n",
       "  <tbody>\n",
       "    <tr>\n",
       "      <th>0</th>\n",
       "      <td>North Indian</td>\n",
       "      <td>2261</td>\n",
       "    </tr>\n",
       "    <tr>\n",
       "      <th>1</th>\n",
       "      <td>Fast Food</td>\n",
       "      <td>693</td>\n",
       "    </tr>\n",
       "    <tr>\n",
       "      <th>2</th>\n",
       "      <td>North Indian, Chinese</td>\n",
       "      <td>624</td>\n",
       "    </tr>\n",
       "    <tr>\n",
       "      <th>3</th>\n",
       "      <td>Bakery</td>\n",
       "      <td>488</td>\n",
       "    </tr>\n",
       "    <tr>\n",
       "      <th>4</th>\n",
       "      <td>Street Food</td>\n",
       "      <td>417</td>\n",
       "    </tr>\n",
       "    <tr>\n",
       "      <th>...</th>\n",
       "      <td>...</td>\n",
       "      <td>...</td>\n",
       "    </tr>\n",
       "    <tr>\n",
       "      <th>3069</th>\n",
       "      <td>Desserts, Pizza, Fast Food, Momos, Frozen Yogurt</td>\n",
       "      <td>1</td>\n",
       "    </tr>\n",
       "    <tr>\n",
       "      <th>3070</th>\n",
       "      <td>Desserts, Salad, Healthy Food, Pizza, Frozen Y...</td>\n",
       "      <td>1</td>\n",
       "    </tr>\n",
       "    <tr>\n",
       "      <th>3071</th>\n",
       "      <td>Desserts, Sandwich, Bakery, Beverages</td>\n",
       "      <td>1</td>\n",
       "    </tr>\n",
       "    <tr>\n",
       "      <th>3072</th>\n",
       "      <td>Desserts, South Indian, North Indian, Chinese</td>\n",
       "      <td>1</td>\n",
       "    </tr>\n",
       "    <tr>\n",
       "      <th>3073</th>\n",
       "      <td>Wraps, Sandwich, Salad, Pizza, Burger, Beverages</td>\n",
       "      <td>1</td>\n",
       "    </tr>\n",
       "  </tbody>\n",
       "</table>\n",
       "<p>3074 rows × 2 columns</p>\n",
       "</div>"
      ],
      "text/plain": [
       "                                               cuisines  name\n",
       "0                                          North Indian  2261\n",
       "1                                             Fast Food   693\n",
       "2                                 North Indian, Chinese   624\n",
       "3                                                Bakery   488\n",
       "4                                           Street Food   417\n",
       "...                                                 ...   ...\n",
       "3069   Desserts, Pizza, Fast Food, Momos, Frozen Yogurt     1\n",
       "3070  Desserts, Salad, Healthy Food, Pizza, Frozen Y...     1\n",
       "3071              Desserts, Sandwich, Bakery, Beverages     1\n",
       "3072      Desserts, South Indian, North Indian, Chinese     1\n",
       "3073   Wraps, Sandwich, Salad, Pizza, Burger, Beverages     1\n",
       "\n",
       "[3074 rows x 2 columns]"
      ]
     },
     "execution_count": 49,
     "metadata": {},
     "output_type": "execute_result"
    }
   ],
   "source": [
    "north_cuisines=north_highlights.groupby(\"cuisines\").count()\n",
    "north_cuisines=north_cuisines.sort_values(\"name\",ascending=False)\n",
    "north_cuisines.reset_index(inplace=True)\n",
    "north_cuisines.iloc[:,0:2]"
   ]
  },
  {
   "cell_type": "markdown",
   "metadata": {},
   "source": [
    "**Cuisines in the eastern region**"
   ]
  },
  {
   "cell_type": "code",
   "execution_count": 50,
   "metadata": {},
   "outputs": [
    {
     "data": {
      "text/html": [
       "<div>\n",
       "<style scoped>\n",
       "    .dataframe tbody tr th:only-of-type {\n",
       "        vertical-align: middle;\n",
       "    }\n",
       "\n",
       "    .dataframe tbody tr th {\n",
       "        vertical-align: top;\n",
       "    }\n",
       "\n",
       "    .dataframe thead th {\n",
       "        text-align: right;\n",
       "    }\n",
       "</style>\n",
       "<table border=\"1\" class=\"dataframe\">\n",
       "  <thead>\n",
       "    <tr style=\"text-align: right;\">\n",
       "      <th></th>\n",
       "      <th>cuisines</th>\n",
       "      <th>name</th>\n",
       "    </tr>\n",
       "  </thead>\n",
       "  <tbody>\n",
       "    <tr>\n",
       "      <th>0</th>\n",
       "      <td>North Indian, Chinese</td>\n",
       "      <td>341</td>\n",
       "    </tr>\n",
       "    <tr>\n",
       "      <th>1</th>\n",
       "      <td>North Indian</td>\n",
       "      <td>313</td>\n",
       "    </tr>\n",
       "    <tr>\n",
       "      <th>2</th>\n",
       "      <td>Fast Food</td>\n",
       "      <td>231</td>\n",
       "    </tr>\n",
       "    <tr>\n",
       "      <th>3</th>\n",
       "      <td>Bakery</td>\n",
       "      <td>197</td>\n",
       "    </tr>\n",
       "    <tr>\n",
       "      <th>4</th>\n",
       "      <td>Mithai</td>\n",
       "      <td>176</td>\n",
       "    </tr>\n",
       "    <tr>\n",
       "      <th>...</th>\n",
       "      <td>...</td>\n",
       "      <td>...</td>\n",
       "    </tr>\n",
       "    <tr>\n",
       "      <th>1428</th>\n",
       "      <td>Desserts, Chinese, Biryani, Beverages</td>\n",
       "      <td>1</td>\n",
       "    </tr>\n",
       "    <tr>\n",
       "      <th>1429</th>\n",
       "      <td>Desserts, Coffee, Beverages, Sandwich, Italian</td>\n",
       "      <td>1</td>\n",
       "    </tr>\n",
       "    <tr>\n",
       "      <th>1430</th>\n",
       "      <td>Desserts, European, Fast Food</td>\n",
       "      <td>1</td>\n",
       "    </tr>\n",
       "    <tr>\n",
       "      <th>1431</th>\n",
       "      <td>Desserts, Fast Food, Pizza, North Indian, Bakery</td>\n",
       "      <td>1</td>\n",
       "    </tr>\n",
       "    <tr>\n",
       "      <th>1432</th>\n",
       "      <td>Wraps, Fast Food, Ice Cream</td>\n",
       "      <td>1</td>\n",
       "    </tr>\n",
       "  </tbody>\n",
       "</table>\n",
       "<p>1433 rows × 2 columns</p>\n",
       "</div>"
      ],
      "text/plain": [
       "                                              cuisines  name\n",
       "0                                North Indian, Chinese   341\n",
       "1                                         North Indian   313\n",
       "2                                            Fast Food   231\n",
       "3                                               Bakery   197\n",
       "4                                               Mithai   176\n",
       "...                                                ...   ...\n",
       "1428             Desserts, Chinese, Biryani, Beverages     1\n",
       "1429    Desserts, Coffee, Beverages, Sandwich, Italian     1\n",
       "1430                     Desserts, European, Fast Food     1\n",
       "1431  Desserts, Fast Food, Pizza, North Indian, Bakery     1\n",
       "1432                       Wraps, Fast Food, Ice Cream     1\n",
       "\n",
       "[1433 rows x 2 columns]"
      ]
     },
     "execution_count": 50,
     "metadata": {},
     "output_type": "execute_result"
    }
   ],
   "source": [
    "east_cuisines=east_highlights.groupby(\"cuisines\").count()\n",
    "east_cuisines=east_cuisines.sort_values(\"name\",ascending=False)\n",
    "east_cuisines.reset_index(inplace=True)\n",
    "east_cuisines.iloc[:,0:2]"
   ]
  },
  {
   "cell_type": "markdown",
   "metadata": {},
   "source": [
    "**Cuisines in the southern region**"
   ]
  },
  {
   "cell_type": "code",
   "execution_count": 51,
   "metadata": {},
   "outputs": [
    {
     "data": {
      "text/html": [
       "<div>\n",
       "<style scoped>\n",
       "    .dataframe tbody tr th:only-of-type {\n",
       "        vertical-align: middle;\n",
       "    }\n",
       "\n",
       "    .dataframe tbody tr th {\n",
       "        vertical-align: top;\n",
       "    }\n",
       "\n",
       "    .dataframe thead th {\n",
       "        text-align: right;\n",
       "    }\n",
       "</style>\n",
       "<table border=\"1\" class=\"dataframe\">\n",
       "  <thead>\n",
       "    <tr style=\"text-align: right;\">\n",
       "      <th></th>\n",
       "      <th>cuisines</th>\n",
       "      <th>name</th>\n",
       "    </tr>\n",
       "  </thead>\n",
       "  <tbody>\n",
       "    <tr>\n",
       "      <th>0</th>\n",
       "      <td>South Indian</td>\n",
       "      <td>1143</td>\n",
       "    </tr>\n",
       "    <tr>\n",
       "      <th>1</th>\n",
       "      <td>Bakery</td>\n",
       "      <td>450</td>\n",
       "    </tr>\n",
       "    <tr>\n",
       "      <th>2</th>\n",
       "      <td>North Indian</td>\n",
       "      <td>298</td>\n",
       "    </tr>\n",
       "    <tr>\n",
       "      <th>3</th>\n",
       "      <td>Finger Food</td>\n",
       "      <td>246</td>\n",
       "    </tr>\n",
       "    <tr>\n",
       "      <th>4</th>\n",
       "      <td>Fast Food</td>\n",
       "      <td>239</td>\n",
       "    </tr>\n",
       "    <tr>\n",
       "      <th>...</th>\n",
       "      <td>...</td>\n",
       "      <td>...</td>\n",
       "    </tr>\n",
       "    <tr>\n",
       "      <th>3360</th>\n",
       "      <td>Healthy Food, Sandwich</td>\n",
       "      <td>1</td>\n",
       "    </tr>\n",
       "    <tr>\n",
       "      <th>3361</th>\n",
       "      <td>Healthy Food, Salad, Sandwich, Beverages</td>\n",
       "      <td>1</td>\n",
       "    </tr>\n",
       "    <tr>\n",
       "      <th>3362</th>\n",
       "      <td>Healthy Food, Salad, Mexican, Beverages</td>\n",
       "      <td>1</td>\n",
       "    </tr>\n",
       "    <tr>\n",
       "      <th>3363</th>\n",
       "      <td>Healthy Food, Salad, Mediterranean</td>\n",
       "      <td>1</td>\n",
       "    </tr>\n",
       "    <tr>\n",
       "      <th>3364</th>\n",
       "      <td>Wraps, Sandwich, Rolls, Fast Food, Burger</td>\n",
       "      <td>1</td>\n",
       "    </tr>\n",
       "  </tbody>\n",
       "</table>\n",
       "<p>3365 rows × 2 columns</p>\n",
       "</div>"
      ],
      "text/plain": [
       "                                       cuisines  name\n",
       "0                                  South Indian  1143\n",
       "1                                        Bakery   450\n",
       "2                                  North Indian   298\n",
       "3                                   Finger Food   246\n",
       "4                                     Fast Food   239\n",
       "...                                         ...   ...\n",
       "3360                     Healthy Food, Sandwich     1\n",
       "3361   Healthy Food, Salad, Sandwich, Beverages     1\n",
       "3362    Healthy Food, Salad, Mexican, Beverages     1\n",
       "3363         Healthy Food, Salad, Mediterranean     1\n",
       "3364  Wraps, Sandwich, Rolls, Fast Food, Burger     1\n",
       "\n",
       "[3365 rows x 2 columns]"
      ]
     },
     "execution_count": 51,
     "metadata": {},
     "output_type": "execute_result"
    }
   ],
   "source": [
    "south_cuisines=south_highlights.groupby(\"cuisines\").count()\n",
    "south_cuisines=south_cuisines.sort_values(\"name\",ascending=False)\n",
    "south_cuisines.reset_index(inplace=True)\n",
    "south_cuisines.iloc[:,0:2]"
   ]
  },
  {
   "cell_type": "markdown",
   "metadata": {},
   "source": [
    "**Cuisines in the western region** "
   ]
  },
  {
   "cell_type": "code",
   "execution_count": 52,
   "metadata": {},
   "outputs": [
    {
     "data": {
      "text/html": [
       "<div>\n",
       "<style scoped>\n",
       "    .dataframe tbody tr th:only-of-type {\n",
       "        vertical-align: middle;\n",
       "    }\n",
       "\n",
       "    .dataframe tbody tr th {\n",
       "        vertical-align: top;\n",
       "    }\n",
       "\n",
       "    .dataframe thead th {\n",
       "        text-align: right;\n",
       "    }\n",
       "</style>\n",
       "<table border=\"1\" class=\"dataframe\">\n",
       "  <thead>\n",
       "    <tr style=\"text-align: right;\">\n",
       "      <th></th>\n",
       "      <th>cuisines</th>\n",
       "      <th>name</th>\n",
       "    </tr>\n",
       "  </thead>\n",
       "  <tbody>\n",
       "    <tr>\n",
       "      <th>0</th>\n",
       "      <td>North Indian</td>\n",
       "      <td>1180</td>\n",
       "    </tr>\n",
       "    <tr>\n",
       "      <th>1</th>\n",
       "      <td>Fast Food</td>\n",
       "      <td>809</td>\n",
       "    </tr>\n",
       "    <tr>\n",
       "      <th>2</th>\n",
       "      <td>Street Food</td>\n",
       "      <td>474</td>\n",
       "    </tr>\n",
       "    <tr>\n",
       "      <th>3</th>\n",
       "      <td>Cafe</td>\n",
       "      <td>427</td>\n",
       "    </tr>\n",
       "    <tr>\n",
       "      <th>4</th>\n",
       "      <td>North Indian, Chinese</td>\n",
       "      <td>398</td>\n",
       "    </tr>\n",
       "    <tr>\n",
       "      <th>...</th>\n",
       "      <td>...</td>\n",
       "      <td>...</td>\n",
       "    </tr>\n",
       "    <tr>\n",
       "      <th>3480</th>\n",
       "      <td>Fast Food, Cafe, Beverages</td>\n",
       "      <td>1</td>\n",
       "    </tr>\n",
       "    <tr>\n",
       "      <th>3481</th>\n",
       "      <td>Fast Food, Cafe, Desserts, Beverages</td>\n",
       "      <td>1</td>\n",
       "    </tr>\n",
       "    <tr>\n",
       "      <th>3482</th>\n",
       "      <td>Fast Food, Cafe, Ice Cream, Burger, Beverages</td>\n",
       "      <td>1</td>\n",
       "    </tr>\n",
       "    <tr>\n",
       "      <th>3483</th>\n",
       "      <td>Fast Food, Cafe, North Indian</td>\n",
       "      <td>1</td>\n",
       "    </tr>\n",
       "    <tr>\n",
       "      <th>3484</th>\n",
       "      <td>Wraps, Sandwich, Pizza, BBQ</td>\n",
       "      <td>1</td>\n",
       "    </tr>\n",
       "  </tbody>\n",
       "</table>\n",
       "<p>3485 rows × 2 columns</p>\n",
       "</div>"
      ],
      "text/plain": [
       "                                           cuisines  name\n",
       "0                                      North Indian  1180\n",
       "1                                         Fast Food   809\n",
       "2                                       Street Food   474\n",
       "3                                              Cafe   427\n",
       "4                             North Indian, Chinese   398\n",
       "...                                             ...   ...\n",
       "3480                     Fast Food, Cafe, Beverages     1\n",
       "3481           Fast Food, Cafe, Desserts, Beverages     1\n",
       "3482  Fast Food, Cafe, Ice Cream, Burger, Beverages     1\n",
       "3483                  Fast Food, Cafe, North Indian     1\n",
       "3484                    Wraps, Sandwich, Pizza, BBQ     1\n",
       "\n",
       "[3485 rows x 2 columns]"
      ]
     },
     "execution_count": 52,
     "metadata": {},
     "output_type": "execute_result"
    }
   ],
   "source": [
    "west_cuisines=west_highlights.groupby(\"cuisines\").count()\n",
    "west_cuisines=west_cuisines.sort_values(\"name\",ascending=False)\n",
    "west_cuisines.reset_index(inplace=True)\n",
    "west_cuisines.iloc[:,0:2]"
   ]
  },
  {
   "cell_type": "markdown",
   "metadata": {},
   "source": [
    "- Plot the barplot for top 10 cuisines served in the four regions"
   ]
  },
  {
   "cell_type": "code",
   "execution_count": 53,
   "metadata": {},
   "outputs": [
    {
     "data": {
      "image/png": "[encoded data removed]",
      "text/plain": [
       "<Figure size 1152x648 with 1 Axes>"
      ]
     },
     "metadata": {
      "needs_background": "light"
     },
     "output_type": "display_data"
    },
    {
     "data": {
      "image/png": "[encoded data removed]",
      "text/plain": [
       "<Figure size 1152x648 with 1 Axes>"
      ]
     },
     "metadata": {
      "needs_background": "light"
     },
     "output_type": "display_data"
    },
    {
     "data": {
      "image/png": "[encoded data removed]",
      "text/plain": [
       "<Figure size 1152x648 with 1 Axes>"
      ]
     },
     "metadata": {
      "needs_background": "light"
     },
     "output_type": "display_data"
    },
    {
     "data": {
      "image/png": "[encoded data removed]",
      "text/plain": [
       "<Figure size 1152x648 with 1 Axes>"
      ]
     },
     "metadata": {
      "needs_background": "light"
     },
     "output_type": "display_data"
    }
   ],
   "source": [
    "north_cuisines=north_cuisines.head(10)\n",
    "plt.bar(north_cuisines[\"cuisines\"],north_cuisines[\"name\"])\n",
    "plt.title(\"North Region\")\n",
    "plt.show()\n",
    "\n",
    "east_cuisines=east_cuisines.head(10)\n",
    "plt.bar(east_cuisines[\"cuisines\"],east_cuisines[\"name\"])\n",
    "plt.title(\"East Region\")\n",
    "plt.show()\n",
    "\n",
    "south_cuisines=south_cuisines.head(10)\n",
    "plt.bar(south_cuisines[\"cuisines\"],south_cuisines[\"name\"])\n",
    "plt.title(\"South Region\")\n",
    "\n",
    "plt.show()\n",
    "\n",
    "west_cuisines=west_cuisines.head(10)\n",
    "plt.bar(west_cuisines[\"cuisines\"],west_cuisines[\"name\"])\n",
    "plt.title(\"West Region\")\n",
    "\n",
    "plt.show()\n"
   ]
  },
  {
   "cell_type": "markdown",
   "metadata": {},
   "source": [
    "###  3. The Northern Region"
   ]
  },
  {
   "cell_type": "markdown",
   "metadata": {},
   "source": [
    "**Now we shall consider only the northern region**"
   ]
  },
  {
   "cell_type": "markdown",
   "metadata": {},
   "source": [
    "**1. The top 10 cuisines served in Restaurants** "
   ]
  },
  {
   "cell_type": "code",
   "execution_count": 54,
   "metadata": {},
   "outputs": [
    {
     "data": {
      "text/plain": [
       "0                          North Indian\n",
       "1                             Fast Food\n",
       "2                 North Indian, Chinese\n",
       "3                                Bakery\n",
       "4                           Street Food\n",
       "5                                  Cafe\n",
       "6                                Mithai\n",
       "7                              Desserts\n",
       "8    North Indian, Chinese, Continental\n",
       "9                             Beverages\n",
       "Name: cuisines, dtype: object"
      ]
     },
     "execution_count": 54,
     "metadata": {},
     "output_type": "execute_result"
    }
   ],
   "source": [
    "north_cuisines.cuisines.head(10)"
   ]
  },
  {
   "cell_type": "markdown",
   "metadata": {},
   "source": [
    "**2. Do restaurants with more photo counts and votes have better rating?**"
   ]
  },
  {
   "cell_type": "code",
   "execution_count": 55,
   "metadata": {},
   "outputs": [
    {
     "name": "stdout",
     "output_type": "stream",
     "text": [
      "                  aggregate_rating  photo_count\n",
      "aggregate_rating          1.000000     0.216657\n",
      "photo_count               0.216657     1.000000\n",
      "aggregate_rating & aggregate_rating =>(0.22) =>Weak positive correlation\n"
     ]
    },
    {
     "data": {
      "image/png": "[encoded data removed]",
      "text/plain": [
       "<Figure size 1152x648 with 2 Axes>"
      ]
     },
     "metadata": {
      "needs_background": "light"
     },
     "output_type": "display_data"
    },
    {
     "data": {
      "image/png": "[encoded data removed]",
      "text/plain": [
       "<Figure size 1152x648 with 1 Axes>"
      ]
     },
     "metadata": {
      "needs_background": "light"
     },
     "output_type": "display_data"
    },
    {
     "name": "stdout",
     "output_type": "stream",
     "text": [
      "INFERENCE\n",
      "photo_count and votes are positivley correlated.Hence from figure we can say that photo_count and votes increases rating\n"
     ]
    }
   ],
   "source": [
    "piv_corr_aggrate_phc=north_highlights[[\"aggregate_rating\",\"photo_count\"]]\n",
    "corr_aggrate_phc=piv_corr_aggrate_phc.corr()\n",
    "print(corr_aggrate_phc)\n",
    "print(\"aggregate_rating & aggregate_rating =>(0.22) =>Weak positive correlation\")\n",
    "sb.heatmap(corr_aggrate_phc,annot=True)\n",
    "plt.show()\n",
    "plt.bar(north_highlights.aggregate_rating,north_highlights.photo_count)\n",
    "plt.show()\n",
    "print(\"INFERENCE\")\n",
    "print(\"photo_count and votes are positivley correlated.Hence from figure we can say that photo_count and votes increases rating\")"
   ]
  },
  {
   "cell_type": "markdown",
   "metadata": {},
   "source": [
    "### 4. The Mumbai city"
   ]
  },
  {
   "cell_type": "markdown",
   "metadata": {},
   "source": [
    "Consider the city mumbai and get a better insights of restuarants in Mumbai."
   ]
  },
  {
   "cell_type": "code",
   "execution_count": 56,
   "metadata": {},
   "outputs": [
    {
     "name": "stdout",
     "output_type": "stream",
     "text": [
      "Restaurants count :  2538\n",
      "Restaurants with rating Good :  747\n",
      "Restaurants with rating Excellent :  248\n",
      "Restaurants with rating Average :  166\n",
      "Restaurants with rating Poor :  68\n",
      "Restaurants Not rated :  112\n",
      "Restaurants with aggreagate rating > 4 :  1136\n",
      "Restaurants with aggreagate rating < 2 :  114\n",
      "Unique cuisines in Restaurants :  901\n",
      "Timing of majority of Restaurants :  Mon-Tue, Thu-Sun (11 AM to 11:59 PM), Wed (11 AM to 11:55 PM)\n",
      "Price of Restaurant with maximum average_cost_for_two:  30000\n",
      "Price of Restaurant with minimum average_cost_for_two:  50\n"
     ]
    }
   ],
   "source": [
    "print(\"Restaurants count : \",data.name[(data.city==\"Mumbai\")].count())\n",
    "print(\"Restaurants with rating Good : \",data.rating_text[(data.city==\"Mumbai\") & (data.rating_text==\"Good\")].count())\n",
    "print(\"Restaurants with rating Excellent : \",data.rating_text[(data.city==\"Mumbai\") & (data.rating_text==\"Excellent\")].count())\n",
    "print(\"Restaurants with rating Average : \",data.rating_text[(data.city==\"Mumbai\") & (data.rating_text==\"Average\")].count())\n",
    "print(\"Restaurants with rating Poor : \",data.rating_text[(data.city==\"Mumbai\") & (data.rating_text==\"Poor\")].count())\n",
    "print(\"Restaurants Not rated : \",data.rating_text[(data.city==\"Mumbai\") & (data.rating_text==\"Not rated\")].count())\n",
    "print(\"Restaurants with aggreagate rating > 4 : \",data.aggregate_rating[(data.city==\"Mumbai\") & (data.aggregate_rating>4)].count())\n",
    "print(\"Restaurants with aggreagate rating < 2 : \",data.aggregate_rating[(data.city==\"Mumbai\") & (data.aggregate_rating<2)].count())\n",
    "print(\"Unique cuisines in Restaurants : \",len(data.cuisines[(data.city==\"Mumbai\")].unique()))\n",
    "print(\"Timing of majority of Restaurants : \",data.timings[(data.city==\"Mumbai\")].max())\n",
    "print(\"Price of Restaurant with maximum average_cost_for_two: \",data.average_cost_for_two[(data.city==\"Mumbai\")].max())\n",
    "print(\"Price of Restaurant with minimum average_cost_for_two: \",data.average_cost_for_two[(data.city==\"Mumbai\")].min())"
   ]
  },
  {
   "cell_type": "markdown",
   "metadata": {},
   "source": [
    "**1. Expensive restaurants in Mumbai**\n",
    "\n",
    "-  Define the costliest restaurants whose average cost of two people exceeds Rs.5000 .\n",
    "-  Plot the restaurants which are costliest based on their average cost for two .\n",
    "\n",
    "\n"
   ]
  },
  {
   "cell_type": "code",
   "execution_count": 57,
   "metadata": {},
   "outputs": [
    {
     "name": "stdout",
     "output_type": "stream",
     "text": [
      "135881                            Vista - Taj Lands End\n",
      "135910                      Souk - The Taj Mahal Palace\n",
      "135918        Wasabi By Morimoto - The Taj Mahal Palace\n",
      "135924                             Celini - Grand Hyatt\n",
      "135925              Masala Kraft - The Taj Mahal Palace\n",
      "135943                            San-Qi - Four Seasons\n",
      "136060                        Bombay High - ITC Maratha\n",
      "136240    Ocean - The Private Dining Room - Sahara Star\n",
      "136242                     Yuuka - The St. Regis Mumbai\n",
      "136245           Le Cirque Signature - The Leela Mumbai\n",
      "138601                      Souk - The Taj Mahal Palace\n",
      "141171                             Celini - Grand Hyatt\n",
      "Name: name, dtype: object\n"
     ]
    },
    {
     "data": {
      "image/png": "[encoded data removed]",
      "text/plain": [
       "<Figure size 1152x648 with 1 Axes>"
      ]
     },
     "metadata": {
      "needs_background": "light"
     },
     "output_type": "display_data"
    }
   ],
   "source": [
    "costliest_mumbai=data[(data.city==\"Mumbai\")&(data.average_cost_for_two>5000)]\n",
    "print(costliest_mumbai.name)\n",
    "plot_costliest_mumbai=costliest_mumbai.head(5)\n",
    "plt.bar(plot_costliest_mumbai.name,plot_costliest_mumbai.average_cost_for_two)\n",
    "plt.show()"
   ]
  },
  {
   "cell_type": "markdown",
   "metadata": {},
   "source": [
    "**2.To find the top 20 cuisines of Mumbai**"
   ]
  },
  {
   "cell_type": "markdown",
   "metadata": {},
   "source": [
    "- select unique cuisines available at restaurants in Mumbai\n",
    "\n",
    "\n",
    "- sort cuisines based on frequency\n"
   ]
  },
  {
   "cell_type": "code",
   "execution_count": 58,
   "metadata": {},
   "outputs": [
    {
     "data": {
      "text/plain": [
       "cuisines\n",
       "Bakery, Desserts                            71\n",
       "North Indian                                51\n",
       "Fast Food                                   49\n",
       "Beverages, Desserts, Ice Cream              44\n",
       "Ice Cream, Desserts                         38\n",
       "Paan                                        35\n",
       "Mithai, Street Food                         35\n",
       "Cafe, Desserts                              30\n",
       "Desserts, Beverages                         30\n",
       "Bakery, Desserts, Fast Food                 30\n",
       "Finger Food                                 29\n",
       "Street Food                                 28\n",
       "Burger, Fast Food                           25\n",
       "Fast Food, Healthy Food, Sandwich, Salad    24\n",
       "Pizza, Fast Food                            24\n",
       "Desserts                                    23\n",
       "Mithai                                      23\n",
       "North Indian, Mughlai                       22\n",
       "Desserts, Ice Cream                         21\n",
       "Beverages, Fast Food                        21\n",
       "Chinese                                     20\n",
       "Name: name, dtype: int64"
      ]
     },
     "execution_count": 58,
     "metadata": {},
     "output_type": "execute_result"
    }
   ],
   "source": [
    "piv=data[data.city==\"Mumbai\"]\n",
    "mum_20_cuisines=piv.groupby(\"cuisines\").count()\n",
    "mum_20_cuisines=mum_20_cuisines.sort_values(\"name\",ascending=False)\n",
    "mum_20_cuisines.iloc[:21,0]"
   ]
  },
  {
   "cell_type": "markdown",
   "metadata": {},
   "source": [
    "**3. To find the popular localities in Mumbai**"
   ]
  },
  {
   "cell_type": "code",
   "execution_count": 59,
   "metadata": {},
   "outputs": [
    {
     "data": {
      "text/plain": [
       "locality\n",
       "Andheri Lokhandwala, Andheri West    104\n",
       "Powai                                 92\n",
       "Malad West                            87\n",
       "Borivali West                         84\n",
       "Pali Hill, Bandra West                67\n",
       "Fort                                  64\n",
       "Khar                                  60\n",
       "Juhu                                  58\n",
       "Kandivali West                        56\n",
       "Lower Parel                           56\n",
       "Mira Road                             51\n",
       "Name: name, dtype: int64"
      ]
     },
     "execution_count": 59,
     "metadata": {},
     "output_type": "execute_result"
    }
   ],
   "source": [
    "mum_10_locality=piv.groupby(\"locality\").count()\n",
    "mum_10_locality=mum_10_locality.sort_values(\"name\",ascending=False)\n",
    "mum_10_locality.iloc[:11,0]"
   ]
  },
  {
   "cell_type": "markdown",
   "metadata": {},
   "source": [
    "**4. Check for relationship between 'aggregate_rating' and 'average_cost_for_two'**"
   ]
  },
  {
   "cell_type": "code",
   "execution_count": 60,
   "metadata": {},
   "outputs": [
    {
     "name": "stdout",
     "output_type": "stream",
     "text": [
      "                      average_cost_for_two  aggregate_rating\n",
      "average_cost_for_two              1.000000          0.255379\n",
      "aggregate_rating                  0.255379          1.000000\n",
      "INFERENCE\n",
      "aggregate_rating & aggregate_rating =>(0.26) =>Weak positive correlation\n"
     ]
    },
    {
     "data": {
      "image/png": "[encoded data removed]",
      "text/plain": [
       "<Figure size 1152x648 with 2 Axes>"
      ]
     },
     "metadata": {
      "needs_background": "light"
     },
     "output_type": "display_data"
    }
   ],
   "source": [
    "piv_corr_aggrate_avgcost=data[[\"average_cost_for_two\",\"aggregate_rating\"]]\n",
    "corr_aggrate_avgcost=piv_corr_aggrate_avgcost.corr()\n",
    "print(corr_aggrate_avgcost)\n",
    "print(\"INFERENCE\")\n",
    "print(\"aggregate_rating & aggregate_rating =>(0.26) =>Weak positive correlation\")\n",
    "sb.heatmap(corr_aggrate_avgcost,annot=True)\n",
    "plt.show()"
   ]
  },
  {
   "cell_type": "markdown",
   "metadata": {},
   "source": [
    "**5. Check for payments method offered in restaurants**"
   ]
  },
  {
   "cell_type": "markdown",
   "metadata": {},
   "source": [
    "- select unique facilities available at restaurants in western region\n",
    "- sort facilities based on frequency\n"
   ]
  },
  {
   "cell_type": "code",
   "execution_count": 61,
   "metadata": {},
   "outputs": [
    {
     "name": "stdout",
     "output_type": "stream",
     "text": [
      "                           0      1\n",
      "0                       Cash  16087\n",
      "2                Credit Card   8884\n",
      "1                 Debit Card   8175\n",
      "3  Digital Payments Accepted   5380\n"
     ]
    }
   ],
   "source": [
    "data=data.replace(np.nan,\"None\")\n",
    "payment_methods=[\"Cash\",\"Debit Card\",\"Credit Card\",\"Digital Payments Accepted\"]\n",
    "piv=data[data.region==\"western\"]\n",
    "res={}\n",
    "for each in payment_methods:\n",
    "    res.update({each:piv.locality[piv[\"highlights\"].str.contains(each,regex=False)].count()})\n",
    "\n",
    "datacop_payment=pd.DataFrame(res.items())\n",
    "print(datacop_payment.sort_values(by=1,ascending=False).head())"
   ]
  }
 ],
 "metadata": {
  "kernelspec": {
   "display_name": "Python 3",
   "language": "python",
   "name": "python3"
  },
  "language_info": {
   "codemirror_mode": {
    "name": "ipython",
    "version": 3
   },
   "file_extension": ".py",
   "mimetype": "text/x-python",
   "name": "python",
   "nbconvert_exporter": "python",
   "pygments_lexer": "ipython3",
   "version": "3.7.6"
  }
 },
 "nbformat": 4,
 "nbformat_minor": 2
}
